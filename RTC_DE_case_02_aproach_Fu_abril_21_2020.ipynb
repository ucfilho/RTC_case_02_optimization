{
  "nbformat": 4,
  "nbformat_minor": 0,
  "metadata": {
    "colab": {
      "name": "RTC_DE_case_02_aproach_Fu_abril_21_2020.ipynb",
      "provenance": [],
      "collapsed_sections": [],
      "include_colab_link": true
    },
    "kernelspec": {
      "name": "python3",
      "display_name": "Python 3"
    }
  },
  "cells": [
    {
      "cell_type": "markdown",
      "metadata": {
        "id": "view-in-github",
        "colab_type": "text"
      },
      "source": [
        "<a href=\"https://colab.research.google.com/github/ucfilho/RTC_case_02_optimization/blob/master/RTC_DE_case_02_aproach_Fu_abril_21_2020.ipynb\" target=\"_parent\"><img src=\"https://colab.research.google.com/assets/colab-badge.svg\" alt=\"Open In Colab\"/></a>"
      ]
    },
    {
      "cell_type": "code",
      "metadata": {
        "id": "wGzR2VpcZHYA",
        "colab_type": "code",
        "colab": {}
      },
      "source": [
        "import pandas as pd\n",
        "from scipy.optimize import differential_evolution\n",
        "import numpy as np\n",
        "import matplotlib.pyplot as plt"
      ],
      "execution_count": 0,
      "outputs": []
    },
    {
      "cell_type": "code",
      "metadata": {
        "id": "MjqwkVE67u2g",
        "colab_type": "code",
        "outputId": "7c6e9d84-41c7-4a92-c248-11286aa3d361",
        "colab": {
          "base_uri": "https://localhost:8080/",
          "height": 54
        }
      },
      "source": [
        "!git clone https://github.com/ucfilho/raianars_RTC_optimization #clonar do Github\n",
        "%cd raianars_RTC_optimization\n",
        "import de_bounds_matriz"
      ],
      "execution_count": 2,
      "outputs": [
        {
          "output_type": "stream",
          "text": [
            "fatal: destination path 'raianars_RTC_optimization' already exists and is not an empty directory.\n",
            "/content/raianars_RTC_optimization\n"
          ],
          "name": "stdout"
        }
      ]
    },
    {
      "cell_type": "code",
      "metadata": {
        "id": "AJAKALcG-KF6",
        "colab_type": "code",
        "colab": {}
      },
      "source": [
        "def ChangeTemp(ki,kj,i,j,Tout,Cp,deltaT):\n",
        "  global NPAR\n",
        "  erro=np.zeros((NPAR)) # erro=1 if there  is an error : penalties\n",
        "  tempSaidaQ=Tout[ki,i]+deltaT[ki,kj]\n",
        "  tempSaidaF=-Cp[kj]*deltaT[ki,kj]/(Cp[j])+Tout[ki,j]\n",
        "  flag=0 # flag : logical test\n",
        "  Thot=np.copy(Tout[ki,i]) # value used to return original value (if request)\n",
        "  Tcold=np.copy(Tout[ki,j]) # value used to return original value (if request)\n",
        "  if(Tout[ki,i] > Tout[ki,j]): #Tquente maior Tfria: vaores atuais\n",
        "    if(tempSaidaQ > tempSaidaF):#Tquente maior Tfria: saidas\n",
        "      flag=1\n",
        "  if(flag>0):\n",
        "    Tout[ki,i]=tempSaidaQ\n",
        "    Tout[ki,j]=tempSaidaF\n",
        "  else:\n",
        "    erro[ki]=1\n",
        "\n",
        "\n",
        "  \n",
        "  return Tout,erro,Thot,Tcold\n",
        "  # Tout,erro,Thot,Tcold=ChangeTemp(ki,kj,i,j,Tout,Cp,deltaT)       \n",
        " "
      ],
      "execution_count": 0,
      "outputs": []
    },
    {
      "cell_type": "code",
      "metadata": {
        "colab_type": "code",
        "id": "M3ougpFws_w9",
        "colab": {}
      },
      "source": [
        "def SharkBuildMatriz(x):\n",
        "  # Ind_I,Ind_J,deltaT, Split, WhenSplit, Alpha=SharkBuildMatriz(x)\n",
        "  # add one position in three variables (Ind_J,Ind_I,deltaT)\n",
        "  # Alfa and Split (split choose the moment and alpha the fraction)\n",
        "  # Split=which stream\n",
        "  # Alfa=fraction \n",
        "  \n",
        "  global Trocas\n",
        "  NPAR=1\n",
        "  #cols=len(tempInicial)\n",
        "  size=int(3*Trocas+3) # number 3 represent split, alfa and WhenSplit\n",
        "  # add one exchange\n",
        "  x=np.array(x).reshape(1,size)\n",
        "  # print('x=');print(x)\n",
        "  Ind_I=np.zeros((NPAR,Trocas)).astype(np.int64)\n",
        "  Ind_J=np.zeros((NPAR,Trocas)).astype(np.int64)\n",
        "  \n",
        "  Tout=np.zeros((NPAR,Trocas))\n",
        "  deltaT=np.zeros((NPAR,Trocas))\n",
        "  for i in range(NPAR):\n",
        "    Alpha=x[i,size-3]\n",
        "    Split=round(x[i,size-2]).astype(np.int64)\n",
        "    WhenSplit=round(x[i,size-1]).astype(np.int64)\n",
        "    for j in range(Trocas):\n",
        "      Ind_I[i,j]=round(x[i,j])\n",
        "      Ind_J[i,j]=round(x[i,j+Trocas])\n",
        "      deltaT[i,j]=x[i,j+2*Trocas] \n",
        "\n",
        "  return Ind_I,Ind_J,deltaT, Split, WhenSplit, Alpha\n",
        "  #Ind_I,Ind_J,deltaT, Split, WhenSplit, Alpha=SharkBuildMatriz(x)"
      ],
      "execution_count": 0,
      "outputs": []
    },
    {
      "cell_type": "code",
      "metadata": {
        "id": "Ha_XxG-tT7yB",
        "colab_type": "code",
        "colab": {}
      },
      "source": [
        "def Temperatura(x):\n",
        "  global Trocas, mCp,tempInicial,tempAlvo,Ttest\n",
        "\n",
        "  NPAR=1\n",
        "  Tin=np.zeros(Trocas)\n",
        "  Tout=np.zeros((NPAR,Trocas))\n",
        "  mCpin=np.zeros(Trocas)\n",
        "  \n",
        "  rows=Trocas \n",
        "  cols=Trocas\n",
        "  Rec_Temp=np.zeros((rows+4,cols))# four extra positions to better view and one to split\n",
        "\n",
        "  Ind_I,Ind_J,deltaT, Split, WhenSplit, Alpha=SharkBuildMatriz(x)\n",
        "\n",
        "\n",
        "  if(WhenSplit==Trocas-1):\n",
        "    Ind_1st=WhenSplit-2\n",
        "    Ind_2nd=Trocas-1\n",
        "  else:\n",
        "    Ind_1st=WhenSplit\n",
        "    Ind_2nd=Trocas-1\n",
        "  \n",
        "  #=====================\n",
        "  # part B: allocating split in cold or hot stream\n",
        "  # Hot=1 means hot stream is split\n",
        "  # Hot=0 means hot stream is not split (so cold stream is split)\n",
        "  if(tempInicial[Split]>tempAlvo[Split]): # hot stream is spliting\n",
        "    Hot=1 \n",
        "    Ind_I[0,Ind_1st]=Split # two streams are correct by split information\n",
        "    Ind_I[0,Ind_2nd]=Trocas-1 # two streams are correct by split information\n",
        "  else: # cold stream is spliting\n",
        "    Hot=0 \n",
        "    Ind_J[0,Ind_1st]=Split # two streams are correct by split information\n",
        "    Ind_J[0,Ind_2nd]=Trocas-1 # two streams are correct by split information\n",
        "\n",
        "  #=====================\n",
        "  # part C: bulding mCp with split values and temperatures with split values\n",
        "  for kk in range(Trocas-1):  # ???(Trocas-1) should be replaced by (Trocas-2)?\n",
        "    Tin[kk]=np.copy(tempInicial[kk])\n",
        "    mCpin[kk]=mCp[kk]\n",
        "\n",
        "  Tin[Trocas-1]=tempInicial[Split]\n",
        "  mCpin[Trocas-1]=mCpin[Split]    \n",
        "\n",
        "\n",
        "  mCpout=np.copy(mCpin)\n",
        "  if(Split==Trocas-1):\n",
        "    mCpout[Split-1]= Alpha*mCpin[Split]\n",
        "    mCpout[Split]= (1-Alpha)*mCpin[Split]\n",
        "  else:\n",
        "    mCpout[Split]=Alpha*mCpin[Split]\n",
        "    mCpout[Trocas-1]= (1-Alpha)*mCpin[Split]\n",
        "  \n",
        "\n",
        "  for ki in range(NPAR):\n",
        "    for kj in range(Trocas): \n",
        "      Tout[ki,kj]=np.copy(Tin[kj])\n",
        "\n",
        "  # Lists Rec_Temp is used to build graph \n",
        "  for i in range(2):\n",
        "    for j in range(cols):\n",
        "      Rec_Temp[i,j]=np.copy(Tout[0,j])\n",
        "\n",
        "  Ttest=np.copy(Tout)\n",
        "  Grab=0 #grab is evaluation: 0: no split, 1:start slit, 2:conclude split \n",
        "  #=====================\n",
        "  # part D: start get temperatures using informations build (A,B,C)\n",
        "  Cont=1\n",
        "  for ki in range(NPAR):\n",
        "    for kj in range(Trocas):\n",
        "      Cont=Cont+1\n",
        "      k=kj\n",
        "      if(kj==WhenSplit):\n",
        "        Cp=np.copy(mCpout)\n",
        "        grab=1\n",
        "      elif(kj==WhenSplit+1):\n",
        "        Cp=np.copy(mCpout)\n",
        "        grab=2\n",
        "      else:\n",
        "        Cp=np.copy(mCpin)\n",
        "        grab=0\n",
        "      \n",
        "      if(grab==2):\n",
        "        if(Hot==1):\n",
        "          i=Trocas-1\n",
        "        else:\n",
        "          j=Trocas-1\n",
        "      else:\n",
        "        i=Ind_I[ki,kj]\n",
        "        j=Ind_J[ki,kj]\n",
        "\n",
        "      \n",
        "      Tout,erro,Thot,Tcold=ChangeTemp(ki,kj,i,j,Tout,Cp,deltaT) \n",
        "\n",
        "      for j in range(Trocas):\n",
        "        Rec_Temp[Cont,j]=np.copy(Tout[0,j])\n",
        "\n",
        "      \n",
        "      if(grab==2):\n",
        "        Taux=Alpha*Tout[ki,Split]+(1-Alpha)*Tout[ki,Trocas-1]\n",
        "        Tout[ki,Trocas-1]=np.copy(Taux)\n",
        "        Tout[ki,Split]=np.copy(Taux)\n",
        "        Cont=Cont+1\n",
        "        for j in range(Trocas):\n",
        "          Rec_Temp[Cont,j]=np.copy(Tout[0,j])\n",
        "        Cont=Cont+1\n",
        "\n",
        "      if(grab == 0):\n",
        "        if(Hot==1):\n",
        "          Tout[ki,Trocas-1]=Tout[ki,Split]\n",
        "        else:\n",
        "          Tout[ki,Trocas-1]=Tout[ki,Split]\n",
        "\n",
        "      for j in range(cols):\n",
        "        Rec_Temp[Cont,j]=np.copy(Tout[0,j])\n",
        "\n",
        "\n",
        "    \n",
        "  return Tout,erro,Rec_Temp\n",
        "\n",
        "  # return Ind_I,Ind_J,deltaT, Split, WhenSplit, Alpha # fake return until test\n",
        "  # return Ind_I,Ind_J,deltaT, Split, WhenSplit, Alpha,Tin # fake return until test\n",
        "  # return Ind_I,Ind_J,deltaT, Split, WhenSplit, Alpha,Tin, mCpin # fake return until test\n",
        "  # return Ind_I,Ind_J,deltaT, Split, WhenSplit, Alpha,Tin, mCpin, mCpout # fake return until test"
      ],
      "execution_count": 0,
      "outputs": []
    },
    {
      "cell_type": "code",
      "metadata": {
        "id": "GQ5b6YgWLNqr",
        "colab_type": "code",
        "colab": {}
      },
      "source": [
        "def Utility(mCp,Rec_Temp,tempAlvo):\n",
        "\n",
        "  global tempFinal\n",
        "  df=pd.DataFrame(Rec_Temp)\n",
        "  num=len(mCp)\n",
        "  tempFinal=np.zeros((num))\n",
        "  row=len(df.iloc[:,0])\n",
        "  col=len(df.iloc[0,:])-1\n",
        "  for i in range(row):\n",
        "    for j in range(col):\n",
        "      tempFinal[j]=np.copy(df.iloc[i,j]) \n",
        "\n",
        "  cols=len(mCp)\n",
        "  NPAR=1\n",
        "  '''\n",
        "  caso I cita TUQin=553 e TQout=552, TUFin=303 TUFout=353\n",
        "  '''\n",
        "  TUQin=553\n",
        "  TUQout=552\n",
        "  TUFin=303 \n",
        "  TUFout=353\n",
        "  \n",
        "  Areas=[]\n",
        "  cargaUQtodas=[]\n",
        "  cargaUFtodas=[]\n",
        "\n",
        "  for ki in range(NPAR):\n",
        "    areaTrocador=[]\n",
        "    cargaUQ=0\n",
        "    cargaUF=0\n",
        "    for j in range(cols):\n",
        "      delta=tempAlvo[j]-tempFinal[j]\n",
        "      if(delta>0):#usa UQ\n",
        "        cargaUQ=cargaUQ+mCp[j]*delta\n",
        "        deltaT1=(TUQin-tempAlvo[j])\n",
        "        deltaT2=(TUQout-tempFinal[j])\n",
        "\n",
        "        try:\n",
        "          A=deltaT1-deltaT2\n",
        "          B=np.log(deltaT1/deltaT2)\n",
        "          deltaTMediaLog=A/B\n",
        "        except:\n",
        "          deltaTMediaLog=1e99\n",
        "\n",
        "        if(deltaTMediaLog==1e99):\n",
        "          areaTrocador.append(1e99)\n",
        "        else:\n",
        "          areaTrocador.append((abs(mCp[j]*(delta)/(U*deltaTMediaLog))))\n",
        "\n",
        "      elif(delta==0):#nao usa UF e UQ\n",
        "        deltaTMediaLog=0\n",
        "        areaTrocador.append(0) \n",
        "\n",
        "      else:#usa UF\n",
        "        deltaT1=(Tout[ki,j]-TUFout)\n",
        "        deltaT2=(tempAlvo[j]-TUFin)     \n",
        "        cargaUF=cargaUF+mCp[j]*(-delta)\n",
        "\n",
        "        #UF -> água resfriada -> entra a 303K e sai a 353K\n",
        "        try:\n",
        "          A=deltaT1-deltaT2\n",
        "          B=np.log(deltaT1/deltaT2)\n",
        "          deltaTMediaLog=A/B\n",
        "        except:\n",
        "          deltaTMediaLog=1e99\n",
        "        \n",
        "        if(deltaTMediaLog==1e99):\n",
        "          areaTrocador.append(1e99)\n",
        "        else:\n",
        "          areaTrocador.append((abs(mCp[j]*(-delta)/(U*deltaTMediaLog))))\n",
        "\n",
        "    cargaUQtodas.append(cargaUQ)\n",
        "    cargaUFtodas.append(cargaUF)\n",
        "\n",
        "    Areas.append(areaTrocador)\n",
        "\n",
        "  return Areas, cargaUQtodas,cargaUFtodas\n",
        "\n",
        "  # Areas, cargaUQtodas,cargaUFtodas=Utility(mCp,Rec_Temp,tempAlvo)"
      ],
      "execution_count": 0,
      "outputs": []
    },
    {
      "cell_type": "code",
      "metadata": {
        "id": "lmPfZ7arakM1",
        "colab_type": "code",
        "colab": {}
      },
      "source": [
        "#FUN calcula o TAC para um determinado arranjo\n",
        "#  cada calculo é feito em uma funcao a parte Fun usa todas funcoes \n",
        "\n",
        "def FUN(x):\n",
        "\n",
        "  global mCp,tempAtual,tempAlvo,tempInicial,U,coefCustoUQ,coefCustoUF\n",
        "  \n",
        "  NPAR=1\n",
        "  '''\n",
        "  funr=np.zeros((NPAR))\n",
        "  cols=len(mCp)\n",
        "  Ind_I,Ind_J,deltaT, Tin, Tout=buildMatriz(x) # transforma x em matriz logica e troca\n",
        "  Tout, Erro=Temperatura(x)\n",
        "  areaTrocadores =Area(x)\n",
        "  areaUtilidade, cargaUQ,cargaUF = Utilidades(tempAlvo,Tout,mCp)\n",
        "  cost=CustoProcesso(areaTrocadores,areaUtilidade,cargaUF,cargaUQ)\n",
        "  funr=cost\n",
        "\n",
        "  for k in range(NPAR):\n",
        "    if(Erro[k]>0):\n",
        "      funr[k]=1e99\n",
        "  funr = np.where(np.isnan(cost), 1e99, cost)\n",
        "  '''\n",
        "  funr=1e99 # fake line (temporary)\n",
        "  return funr "
      ],
      "execution_count": 0,
      "outputs": []
    },
    {
      "cell_type": "code",
      "metadata": {
        "colab_type": "code",
        "id": "LXHFFtlr7A0t",
        "colab": {}
      },
      "source": [
        "def SharkArea(x):\n",
        "  #global Trocas, mCp,tempInicial,tempAlvo,Ttest\n",
        "  global mCp,tempAlvo,tempInicial,Trocas,U,Trocas\n",
        "  \n",
        "  NPAR=1\n",
        "  \n",
        "  #Area=[]\n",
        "  Area_Particula=[]\n",
        "\n",
        "  NPAR=1\n",
        "  Tin=np.zeros(Trocas)\n",
        "  Tout=np.zeros((NPAR,Trocas))\n",
        "  mCpin=np.zeros(Trocas)\n",
        "  \n",
        "  rows=Trocas \n",
        "  cols=Trocas\n",
        "  Rec_Temp=np.zeros((rows+4,cols))# four extra positions to better view and one to split\n",
        "\n",
        "  Ind_I,Ind_J,deltaT, Split, WhenSplit, Alpha=SharkBuildMatriz(x)\n",
        "\n",
        "\n",
        "  if(WhenSplit==Trocas-1):\n",
        "    Ind_1st=WhenSplit-2\n",
        "    Ind_2nd=Trocas-1\n",
        "  else:\n",
        "    Ind_1st=WhenSplit\n",
        "    Ind_2nd=Trocas-1\n",
        "  \n",
        "  #=====================\n",
        "  # part B: allocating split in cold or hot stream\n",
        "  # Hot=1 means hot stream is split\n",
        "  # Hot=0 means hot stream is not split (so cold stream is split)\n",
        "  if(tempInicial[Split]>tempAlvo[Split]): # hot stream is spliting\n",
        "    Hot=1 \n",
        "    Ind_I[0,Ind_1st]=Split # two streams are correct by split information\n",
        "    Ind_I[0,Ind_2nd]=Trocas-1 # two streams are correct by split information\n",
        "  else: # cold stream is spliting\n",
        "    Hot=0 \n",
        "    Ind_J[0,Ind_1st]=Split # two streams are correct by split information\n",
        "    Ind_J[0,Ind_2nd]=Trocas-1 # two streams are correct by split information\n",
        "\n",
        "  #=====================\n",
        "  # part C: bulding mCp with split values and temperatures with split values\n",
        "  for kk in range(Trocas-1):  # ???(Trocas-1) should be replaced by (Trocas-2)?\n",
        "    Tin[kk]=np.copy(tempInicial[kk])\n",
        "    mCpin[kk]=mCp[kk]\n",
        "\n",
        "  Tin[Trocas-1]=tempInicial[Split]\n",
        "  mCpin[Trocas-1]=mCpin[Split]    \n",
        "\n",
        "\n",
        "  mCpout=np.copy(mCpin)\n",
        "  if(Split==Trocas-1):\n",
        "    mCpout[Split-1]= Alpha*mCpin[Split]\n",
        "    mCpout[Split]= (1-Alpha)*mCpin[Split]\n",
        "  else:\n",
        "    mCpout[Split]=Alpha*mCpin[Split]\n",
        "    mCpout[Trocas-1]= (1-Alpha)*mCpin[Split]\n",
        "  \n",
        "\n",
        "  for ki in range(NPAR):\n",
        "    for kj in range(Trocas): \n",
        "      Tout[ki,kj]=np.copy(Tin[kj])\n",
        "\n",
        "  # Lists Rec_Temp is used to build graph \n",
        "  for i in range(2):\n",
        "    for j in range(cols):\n",
        "      Rec_Temp[i,j]=np.copy(Tout[0,j])\n",
        "\n",
        "  Ttest=np.copy(Tout)\n",
        "  Grab=0 #grab is evaluation: 0: no split, 1:start slit, 2:conclude split \n",
        "  #=====================\n",
        "  # part D: start get temperatures using informations build (A,B,C)\n",
        "  Cont=1\n",
        "  for ki in range(NPAR):\n",
        "    for kj in range(Trocas):\n",
        "      Cont=Cont+1\n",
        "      k=kj\n",
        "      if(kj==WhenSplit):\n",
        "        Cp=np.copy(mCpout)\n",
        "        grab=1\n",
        "      elif(kj==WhenSplit+1):\n",
        "        Cp=np.copy(mCpout)\n",
        "        grab=2\n",
        "      else:\n",
        "        Cp=np.copy(mCpin)\n",
        "        grab=0\n",
        "      \n",
        "      if(grab==2):\n",
        "        if(Hot==1):\n",
        "          i=Trocas-1\n",
        "        else:\n",
        "          j=Trocas-1\n",
        "      else:\n",
        "        i=Ind_I[ki,kj]\n",
        "        j=Ind_J[ki,kj]\n",
        "\n",
        "      \n",
        "      Tout,erro,Thot,Tcold=ChangeTemp(ki,kj,i,j,Tout,Cp,deltaT) \n",
        "\n",
        "      Told_i=Thot\n",
        "      Told_j=Tcold\n",
        "      tempSaidaQ=Tout[ki,i]\n",
        "      tempSaidaF=Tout[ki,j]\n",
        "      deltaT1=Told_i-tempSaidaF\n",
        "      deltaT2=tempSaidaQ-Told_j\n",
        "\n",
        "      try:\n",
        "        A=(deltaT1-deltaT2)\n",
        "        B=np.log((deltaT1/deltaT2))\n",
        "        deltaTMediaLog=A/B\n",
        "      except:\n",
        "        deltaTMediaLog=1e99\n",
        "    \n",
        "      if(deltaTMediaLog==1e99):\n",
        "        AreaCalc=1e99\n",
        "      else:\n",
        "        AreaCalc=abs(deltaT[0,i]*Cp[i]/(U*deltaTMediaLog))\n",
        "\n",
        "      if(Told_i==tempSaidaQ):\n",
        "        AreaCalc=0\n",
        "\n",
        "      if(Told_j==tempSaidaF):\n",
        "        AreaCalc=0\n",
        "      \n",
        "      AreaCalc=np.where(np.isnan(AreaCalc), 1e99, AreaCalc).ravel()\n",
        "\n",
        "      Area_Particula.append(AreaCalc)\n",
        "\n",
        "      for j in range(Trocas):\n",
        "        Rec_Temp[Cont,j]=np.copy(Tout[0,j])\n",
        "\n",
        "      \n",
        "      if(grab==2):\n",
        "        Taux=Alpha*Tout[ki,Split]+(1-Alpha)*Tout[ki,Trocas-1]\n",
        "        Tout[ki,Trocas-1]=np.copy(Taux)\n",
        "        Tout[ki,Split]=np.copy(Taux)\n",
        "        Cont=Cont+1\n",
        "        for j in range(Trocas):\n",
        "          Rec_Temp[Cont,j]=np.copy(Tout[0,j])\n",
        "        Cont=Cont+1\n",
        "\n",
        "      if(grab == 0):\n",
        "        if(Hot==1):\n",
        "          Tout[ki,Trocas-1]=Tout[ki,Split]\n",
        "        else:\n",
        "          Tout[ki,Trocas-1]=Tout[ki,Split]\n",
        "\n",
        "      for j in range(cols):\n",
        "        Rec_Temp[Cont,j]=np.copy(Tout[0,j])\n",
        "\n",
        "  \n",
        "    \n",
        "  return Area_Particula\n",
        "\n",
        "  # AreaCada=SharkArea(x)\n",
        "\n",
        "  # return Ind_I,Ind_J,deltaT, Split, WhenSplit, Alpha # fake return until test\n",
        "  # return Ind_I,Ind_J,deltaT, Split, WhenSplit, Alpha,Tin # fake return until test\n",
        "  # return Ind_I,Ind_J,deltaT, Split, WhenSplit, Alpha,Tin, mCpin # fake return until test\n",
        "  # return Ind_I,Ind_J,deltaT, Split, WhenSplit, Alpha,Tin, mCpin, mCpout # fake return until test"
      ],
      "execution_count": 0,
      "outputs": []
    },
    {
      "cell_type": "code",
      "metadata": {
        "id": "Dt6anZvATxzg",
        "colab_type": "code",
        "colab": {}
      },
      "source": [
        "#********************PROGRAMA PRINCIPAL*************************\n",
        "\n",
        "Trocas=5\n",
        "mCp=[4,2,1.5,3] #[kW/K]\n",
        "tempInicial=[453.0,393.0,523.0,533.0] #[K]\n",
        "tempAtual=np.copy(tempInicial) \n",
        "tempAlvo=[513.0,508.0,403.0,433.0] #[K]\n",
        "U=0.2 #[kW/(m2.K)]\n",
        "coefCustoUQ=110 #[$/(kW.ano)]\n",
        "coefCustoUF=12.2 #[$/(kW.ano)]\n",
        "\n",
        "# the last position in MAX and MIN vector represent which moment the split \n",
        "#    occur not which stream (split represent which stream) \n",
        "#    for this reason it reach larger value\n",
        "#MAX=np.array([3,3,3,3,3,3,3,3,3,3,0,0,0,0,0,1,3,4]) # ,1,3,4]) Alpha,Split,WhenSplit\n",
        "#MIN=np.array([0,0,0,0,0,0,0,0,0,0,-100,-100,-100,-100,-100,0,0,0])\n",
        "\n",
        "MAX=np.array([3,3,3,3,3,1,1,1,1,1,0,0,0,0,0,1,3,4]) # ,1,3,4]) Alpha,Split,WhenSplit\n",
        "MIN=np.array([2,2,2,2,2,0,0,0,0,0,-20,-20,-20,-20,-20,0,0,0])\n",
        "NPAR=1\n",
        "cols=int(3*Trocas+3)\n",
        "x=np.zeros((NPAR,cols))\n",
        "\n",
        "for i in range(NPAR):\n",
        "  for j in range(cols):\n",
        "    r=np.random.random()\n",
        "    x[i,j]=r*(MAX[j]-MIN[j])+MIN[j]\n",
        "\n",
        "\n",
        "\n",
        "\n",
        "\n",
        "bounds=[]\n",
        "for k in range(len(MAX)):\n",
        "  bounds.append((MIN[k],MAX[k]))\n",
        "\n",
        "\n",
        "#print(bounds)\n",
        "\n"
      ],
      "execution_count": 0,
      "outputs": []
    },
    {
      "cell_type": "code",
      "metadata": {
        "id": "K4uCBdRVKAOf",
        "colab_type": "code",
        "outputId": "9b101767-580d-4526-e48c-c61262f00707",
        "colab": {
          "base_uri": "https://localhost:8080/",
          "height": 181
        }
      },
      "source": [
        "\n",
        "Ttest=np.zeros((1,Trocas))\n",
        "\n",
        "Ind_I,Ind_J,deltaT, Split, WhenSplit, Alpha=SharkBuildMatriz(x)\n",
        "Tout,erro,Rec_Temp=Temperatura(x)\n",
        "\n",
        "print(Ind_I)\n",
        "print(Ind_J)\n",
        "print(deltaT)\n",
        "print('Split=',Split)\n",
        "print(Alpha)\n",
        "print(WhenSplit)\n",
        "print(\"#####------######\")\n",
        "print(Ttest)\n",
        "print(tempInicial)\n",
        "\n"
      ],
      "execution_count": 10,
      "outputs": [
        {
          "output_type": "stream",
          "text": [
            "[[3 2 3 2 3]]\n",
            "[[1 0 0 1 1]]\n",
            "[[-18.98654173  -2.23130557  -5.91759248 -16.11539269  -1.27826678]]\n",
            "Split= 1\n",
            "0.10540233474052041\n",
            "0\n",
            "#####------######\n",
            "[[453. 393. 523. 533. 393.]]\n",
            "[453.0, 393.0, 523.0, 533.0]\n"
          ],
          "name": "stdout"
        }
      ]
    },
    {
      "cell_type": "code",
      "metadata": {
        "id": "staDxSeFWyzK",
        "colab_type": "code",
        "outputId": "9166c45d-2cc7-4b75-c6c2-e854568a8acf",
        "colab": {
          "base_uri": "https://localhost:8080/",
          "height": 254
        }
      },
      "source": [
        "\n",
        "print('=====================')\n",
        "Tout,erro,Rec_Temp =Temperatura(x)\n",
        "df=pd.DataFrame(Rec_Temp)\n",
        "print('*****',Tout)\n",
        "print(erro)\n",
        "print(df)\n"
      ],
      "execution_count": 11,
      "outputs": [
        {
          "output_type": "stream",
          "text": [
            "=====================\n",
            "***** [[455.21909718 417.40827385 506.88460731 523.57283516 417.40827385]]\n",
            "[0.]\n",
            "            0           1           2           3           4\n",
            "0  453.000000  393.000000  523.000000  533.000000  393.000000\n",
            "1  453.000000  393.000000  523.000000  533.000000  393.000000\n",
            "2  453.000000  393.000000  523.000000  533.000000  393.000000\n",
            "3  453.000000  393.000000  523.000000  530.768694  393.262895\n",
            "4  453.000000  393.235185  523.000000  530.768694  393.235185\n",
            "5  453.000000  393.235185  523.000000  530.768694  393.235185\n",
            "6  455.219097  393.235185  523.000000  524.851102  393.235185\n",
            "7  455.219097  417.408274  506.884607  524.851102  417.408274\n",
            "8  455.219097  417.408274  506.884607  523.572835  417.408274\n"
          ],
          "name": "stdout"
        }
      ]
    },
    {
      "cell_type": "code",
      "metadata": {
        "id": "ouDIo9TxD5Tm",
        "colab_type": "code",
        "outputId": "b34aece0-3263-498c-b84e-e2bdd327bd44",
        "colab": {
          "base_uri": "https://localhost:8080/",
          "height": 35
        }
      },
      "source": [
        "print(deltaT)"
      ],
      "execution_count": 12,
      "outputs": [
        {
          "output_type": "stream",
          "text": [
            "[[-18.98654173  -2.23130557  -5.91759248 -16.11539269  -1.27826678]]\n"
          ],
          "name": "stdout"
        }
      ]
    },
    {
      "cell_type": "code",
      "metadata": {
        "id": "A-E5HgBaPVC-",
        "colab_type": "code",
        "outputId": "c5e526ad-334f-4ed1-9eef-846cd3eb2de5",
        "colab": {
          "base_uri": "https://localhost:8080/",
          "height": 108
        }
      },
      "source": [
        "Areas, cargaUQtodas,cargaUFtodas=Utility(mCp,Rec_Temp,tempAlvo)\n",
        "print('Areas=',Areas)\n",
        "print('cargaUQtodas=',cargaUQtodas)\n",
        "print('cargaUFtodas=',cargaUFtodas)\n",
        "print('tempFinal=',tempFinal)\n",
        "print('tempAlvo=',tempAlvo)"
      ],
      "execution_count": 13,
      "outputs": [
        {
          "output_type": "stream",
          "text": [
            "Areas= [[17.98262563380427, 11.078120787911311, 6.232439851330117, 9.095536190152739]]\n",
            "cargaUQtodas= [412.3070635783322]\n",
            "cargaUFtodas= [427.5454164616116]\n",
            "tempFinal= [455.21909718 417.40827385 506.88460731 523.57283516]\n",
            "tempAlvo= [513.0, 508.0, 403.0, 433.0]\n"
          ],
          "name": "stdout"
        }
      ]
    },
    {
      "cell_type": "code",
      "metadata": {
        "id": "S80QizOyk77C",
        "colab_type": "code",
        "outputId": "356d1311-9a12-4883-fc89-626c7a02d160",
        "colab": {
          "base_uri": "https://localhost:8080/",
          "height": 35
        }
      },
      "source": [
        "print(WhenSplit)"
      ],
      "execution_count": 14,
      "outputs": [
        {
          "output_type": "stream",
          "text": [
            "0\n"
          ],
          "name": "stdout"
        }
      ]
    },
    {
      "cell_type": "code",
      "metadata": {
        "id": "z4RyeYueqKN1",
        "colab_type": "code",
        "outputId": "dad09dec-fb2c-4893-b920-b278965d343c",
        "colab": {
          "base_uri": "https://localhost:8080/",
          "height": 301
        }
      },
      "source": [
        "#df = df[:-1]\n",
        "Imagem=len(df.iloc[:,0]) # Imagens+5 to get better graph postions\n",
        "Change=range(Imagem)\n",
        "for k in range(Trocas):\n",
        "  plt.plot(Change,df.iloc[:,k])\n",
        "\n",
        "plt.xlabel('Stages')\n",
        "plt.ylabel('Temperature (K)')"
      ],
      "execution_count": 15,
      "outputs": [
        {
          "output_type": "execute_result",
          "data": {
            "text/plain": [
              "Text(0, 0.5, 'Temperature (K)')"
            ]
          },
          "metadata": {
            "tags": []
          },
          "execution_count": 15
        },
        {
          "output_type": "display_data",
          "data": {
            "image/png": "[encoded data removed]",
            "text/plain": [
              "<Figure size 432x288 with 1 Axes>"
            ]
          },
          "metadata": {
            "tags": [],
            "needs_background": "light"
          }
        }
      ]
    },
    {
      "cell_type": "code",
      "metadata": {
        "id": "Rq6zaln-6cGn",
        "colab_type": "code",
        "outputId": "46899c59-1cca-43c4-e2b3-cebe779774df",
        "colab": {
          "base_uri": "https://localhost:8080/",
          "height": 199
        }
      },
      "source": [
        "print(df)"
      ],
      "execution_count": 16,
      "outputs": [
        {
          "output_type": "stream",
          "text": [
            "            0           1           2           3           4\n",
            "0  453.000000  393.000000  523.000000  533.000000  393.000000\n",
            "1  453.000000  393.000000  523.000000  533.000000  393.000000\n",
            "2  453.000000  393.000000  523.000000  533.000000  393.000000\n",
            "3  453.000000  393.000000  523.000000  530.768694  393.262895\n",
            "4  453.000000  393.235185  523.000000  530.768694  393.235185\n",
            "5  453.000000  393.235185  523.000000  530.768694  393.235185\n",
            "6  455.219097  393.235185  523.000000  524.851102  393.235185\n",
            "7  455.219097  417.408274  506.884607  524.851102  417.408274\n",
            "8  455.219097  417.408274  506.884607  523.572835  417.408274\n"
          ],
          "name": "stdout"
        }
      ]
    },
    {
      "cell_type": "code",
      "metadata": {
        "id": "stkxAEVg9kcg",
        "colab_type": "code",
        "outputId": "8cc6873f-6521-4e8b-e81c-1f433eb20eaf",
        "colab": {
          "base_uri": "https://localhost:8080/",
          "height": 72
        }
      },
      "source": [
        "print(Split)\n",
        "print(WhenSplit)\n",
        "print(tempInicial)\n"
      ],
      "execution_count": 17,
      "outputs": [
        {
          "output_type": "stream",
          "text": [
            "1\n",
            "0\n",
            "[453.0, 393.0, 523.0, 533.0]\n"
          ],
          "name": "stdout"
        }
      ]
    },
    {
      "cell_type": "code",
      "metadata": {
        "id": "mSNvHi0qFleY",
        "colab_type": "code",
        "outputId": "34c32cd2-2720-4c51-f363-076a016f0c43",
        "colab": {
          "base_uri": "https://localhost:8080/",
          "height": 72
        }
      },
      "source": [
        "tempFinal=np.zeros((Trocas-1))\n",
        "row=len(df.iloc[:,0])\n",
        "col=len(df.iloc[0,:])-1\n",
        "for i in range(row):\n",
        "  for j in range(col):\n",
        "    tempFinal[j]=np.copy(df.iloc[i,j])\n",
        "print(tempFinal)\n",
        "print(row)\n",
        "print(col)"
      ],
      "execution_count": 18,
      "outputs": [
        {
          "output_type": "stream",
          "text": [
            "[455.21909718 417.40827385 506.88460731 523.57283516]\n",
            "9\n",
            "4\n"
          ],
          "name": "stdout"
        }
      ]
    },
    {
      "cell_type": "code",
      "metadata": {
        "id": "98ebmeBd6e5L",
        "colab_type": "code",
        "outputId": "a7887aa6-20e9-44a8-d635-37309b004be8",
        "colab": {
          "base_uri": "https://localhost:8080/",
          "height": 55
        }
      },
      "source": [
        "'''\n",
        "fobj=FUN\n",
        "mut=0.5\n",
        "crossp=0.5\n",
        "NPAR=100\n",
        "its=200\n",
        "cols=12\n",
        "x=np.zeros((NPAR,cols))\n",
        "for i in range(NPAR):\n",
        "  for j in range(cols):\n",
        "    r=np.random.random()\n",
        "    x[i,j]=r*(MAX[j]-MIN[j])+MIN[j]\n",
        "\n",
        "x,BEST,FOBEST,XY,BEST_XY=de_bounds_matriz.de(bounds, mut, crossp, \n",
        "                                             NPAR, its,fobj,x)\n",
        "'''"
      ],
      "execution_count": 19,
      "outputs": [
        {
          "output_type": "execute_result",
          "data": {
            "text/plain": [
              "'\\nfobj=FUN\\nmut=0.5\\ncrossp=0.5\\nNPAR=100\\nits=200\\ncols=12\\nx=np.zeros((NPAR,cols))\\nfor i in range(NPAR):\\n  for j in range(cols):\\n    r=np.random.random()\\n    x[i,j]=r*(MAX[j]-MIN[j])+MIN[j]\\n\\nx,BEST,FOBEST,XY,BEST_XY=de_bounds_matriz.de(bounds, mut, crossp, \\n                                             NPAR, its,fobj,x)\\n'"
            ]
          },
          "metadata": {
            "tags": []
          },
          "execution_count": 19
        }
      ]
    },
    {
      "cell_type": "code",
      "metadata": {
        "id": "aIEq0IrCBVPm",
        "colab_type": "code",
        "colab": {
          "base_uri": "https://localhost:8080/",
          "height": 72
        },
        "outputId": "90ec4ca5-4906-42fc-f942-1e00558231a7"
      },
      "source": [
        "AreaCada=SharkArea(x)\n",
        "AreaCada=np.array(pd.DataFrame(AreaCada)).ravel()\n",
        "print(AreaCada)"
      ],
      "execution_count": 20,
      "outputs": [
        {
          "output_type": "stream",
          "text": [
            "[0.00000000e+00 1.74219742e+00 3.28060369e+00 4.05051179e-01\n",
            " 1.00000000e+99]\n"
          ],
          "name": "stdout"
        },
        {
          "output_type": "stream",
          "text": [
            "/usr/local/lib/python3.6/dist-packages/ipykernel_launcher.py:111: RuntimeWarning: invalid value encountered in double_scalars\n"
          ],
          "name": "stderr"
        }
      ]
    },
    {
      "cell_type": "code",
      "metadata": {
        "id": "dKx9C1kcDLph",
        "colab_type": "code",
        "colab": {
          "base_uri": "https://localhost:8080/",
          "height": 35
        },
        "outputId": "f5bc43b5-95e3-4e2b-a854-da42662c4446"
      },
      "source": [
        "print(AreaCada[4])"
      ],
      "execution_count": 21,
      "outputs": [
        {
          "output_type": "stream",
          "text": [
            "1e+99\n"
          ],
          "name": "stdout"
        }
      ]
    },
    {
      "cell_type": "code",
      "metadata": {
        "id": "h7VYqfu-Ee7-",
        "colab_type": "code",
        "outputId": "58893ca8-7a3a-4e2d-bcfe-b9e062c334b7",
        "colab": {
          "base_uri": "https://localhost:8080/",
          "height": 35
        }
      },
      "source": [
        "'''\n",
        "Busca=Numb(BEST)\n",
        "print(pd.DataFrame(Busca))\n",
        "df=pd.DataFrame(Busca)\n",
        "'''"
      ],
      "execution_count": 22,
      "outputs": [
        {
          "output_type": "execute_result",
          "data": {
            "text/plain": [
              "'\\nBusca=Numb(BEST)\\nprint(pd.DataFrame(Busca))\\ndf=pd.DataFrame(Busca)\\n'"
            ]
          },
          "metadata": {
            "tags": []
          },
          "execution_count": 22
        }
      ]
    },
    {
      "cell_type": "code",
      "metadata": {
        "id": "AuAvTiG5Ma0o",
        "colab_type": "code",
        "outputId": "d1ccf944-1c84-4bea-b6d8-fd6669e66f10",
        "colab": {
          "base_uri": "https://localhost:8080/",
          "height": 35
        }
      },
      "source": [
        "print(Alpha)"
      ],
      "execution_count": 23,
      "outputs": [
        {
          "output_type": "stream",
          "text": [
            "0.10540233474052041\n"
          ],
          "name": "stdout"
        }
      ]
    }
  ]
}