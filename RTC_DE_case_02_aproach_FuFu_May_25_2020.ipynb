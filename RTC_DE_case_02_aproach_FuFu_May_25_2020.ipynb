{
  "nbformat": 4,
  "nbformat_minor": 0,
  "metadata": {
    "colab": {
      "name": "RTC_DE_case_02_aproach_FuFu_May_25_2020.ipynb",
      "provenance": [],
      "collapsed_sections": [],
      "include_colab_link": true
    },
    "kernelspec": {
      "name": "python3",
      "display_name": "Python 3"
    }
  },
  "cells": [
    {
      "cell_type": "markdown",
      "metadata": {
        "id": "view-in-github",
        "colab_type": "text"
      },
      "source": [
        "<a href=\"https://colab.research.google.com/github/ucfilho/RTC_case_02_optimization/blob/master/RTC_DE_case_02_aproach_FuFu_May_25_2020.ipynb\" target=\"_parent\"><img src=\"https://colab.research.google.com/assets/colab-badge.svg\" alt=\"Open In Colab\"/></a>"
      ]
    },
    {
      "cell_type": "code",
      "metadata": {
        "id": "wGzR2VpcZHYA",
        "colab_type": "code",
        "colab": {}
      },
      "source": [
        "import pandas as pd\n",
        "from scipy.optimize import differential_evolution\n",
        "import numpy as np\n",
        "import matplotlib.pyplot as plt\n",
        "import time\n"
      ],
      "execution_count": 0,
      "outputs": []
    },
    {
      "cell_type": "code",
      "metadata": {
        "id": "GHR8GfAsMOQY",
        "colab_type": "code",
        "colab": {}
      },
      "source": [
        "start_time = time.time()\n"
      ],
      "execution_count": 0,
      "outputs": []
    },
    {
      "cell_type": "code",
      "metadata": {
        "id": "Dt6anZvATxzg",
        "colab_type": "code",
        "colab": {}
      },
      "source": [
        "#********************PROGRAMA PRINCIPAL*************************\n",
        "\n",
        "Trocas=5\n",
        "mCp=[200,100,300,500] #[kW/K]\n",
        "tempInicial=[423.0,443.0,323.0,353.0] #[K]\n",
        "tempAtual=np.copy(tempInicial) \n",
        "tempAlvo=[323.0,313.0,393.0,383.0] #[K]\n",
        "U=0.1 #[kW/(m2.K)]\n",
        "coefCustoUQ=110.0 #[$/(kW.ano)]\n",
        "coefCustoUF=10.0 #[$/(kW.ano)]\n",
        "\n",
        "# the last position in MAX and MIN vector represent which moment the split \n",
        "#    occur not which stream (split represent which stream) \n",
        "#    for this reason it reach larger value\n",
        "#MAX=np.array([3,3,3,3,3,3,3,3,3,3,0,0,0,0,0,1,3,4]) # ,1,3,4]) Alpha,Split,WhenSplit\n",
        "#MIN=np.array([0,0,0,0,0,0,0,0,0,0,-100,-100,-100,-100,-100,0,0,0])\n",
        "\n",
        "MAX=np.array([3,3,3,3,3,3,3,3,3,3,0,0,0,0,0,0.88,3,4]) # ,1,3,4]) Alpha,Split,WhenSplit\n",
        "MIN=np.array([0,0,0,0,0,0,0,0,0,0,-100,-100,-100,-100,-100,0.15,0,0])\n",
        "NPAR=1\n",
        "\n",
        "\n",
        "\n",
        "cols=int(3*Trocas+3)\n",
        "x=np.zeros((NPAR,cols))\n",
        "\n",
        "for i in range(NPAR):\n",
        "  for j in range(cols):\n",
        "    r=np.random.random()\n",
        "    x[i,j]=r*(MAX[j]-MIN[j])+MIN[j]\n",
        "\n",
        "bounds=[]\n",
        "for k in range(len(MAX)):\n",
        "  bounds.append((MIN[k],MAX[k]))\n",
        "\n",
        "\n",
        "#print(bounds)\n",
        "\n",
        "mut=0.5\n",
        "crossp=0.5\n",
        "NPAR=25\n",
        "its=25\n",
        "cols=18"
      ],
      "execution_count": 0,
      "outputs": []
    },
    {
      "cell_type": "code",
      "metadata": {
        "id": "wkePQEVg8bbY",
        "colab_type": "code",
        "colab": {}
      },
      "source": [
        "# Enthalpy =  2014 (kJ/kg )\n",
        "# https://www.engineeringtoolbox.com/saturated-steam-properties-d_101.html"
      ],
      "execution_count": 0,
      "outputs": []
    },
    {
      "cell_type": "code",
      "metadata": {
        "id": "MjqwkVE67u2g",
        "colab_type": "code",
        "outputId": "070b5cea-11d4-4e1d-d313-801c7facf0cc",
        "colab": {
          "base_uri": "https://localhost:8080/",
          "height": 50
        }
      },
      "source": [
        "!git clone https://github.com/ucfilho/raianars_RTC_optimization #clonar do Github\n",
        "%cd raianars_RTC_optimization\n",
        "import de_bounds_matriz"
      ],
      "execution_count": 5,
      "outputs": [
        {
          "output_type": "stream",
          "text": [
            "fatal: destination path 'raianars_RTC_optimization' already exists and is not an empty directory.\n",
            "/content/raianars_RTC_optimization\n"
          ],
          "name": "stdout"
        }
      ]
    },
    {
      "cell_type": "code",
      "metadata": {
        "id": "AJAKALcG-KF6",
        "colab_type": "code",
        "colab": {}
      },
      "source": [
        "def ChangeTemp(ki,kj,i,j,Tout,Cp,deltaT):\n",
        "  global NPAR\n",
        "  erro=np.zeros((NPAR)) # erro=1 if there  is an error : penalties\n",
        "  tempSaidaQ=Tout[ki,i]+deltaT[ki,kj]\n",
        "  tempSaidaF=-Cp[kj]*deltaT[ki,kj]/(Cp[j])+Tout[ki,j]\n",
        "  flag=0 # flag : logical test\n",
        "  Thot=np.copy(Tout[ki,i]) # value used to return original value (if request)\n",
        "  Tcold=np.copy(Tout[ki,j]) # value used to return original value (if request)\n",
        "  if(Tout[ki,i] > Tout[ki,j]): #Tquente maior Tfria: vaores atuais\n",
        "    if(tempSaidaQ > tempSaidaF):#Tquente maior Tfria: saidas\n",
        "      flag=1\n",
        "  if(flag>0):\n",
        "    Tout[ki,i]=tempSaidaQ\n",
        "    Tout[ki,j]=tempSaidaF\n",
        "  else:\n",
        "    erro[ki]=1\n",
        "\n",
        "  return Tout,erro,Thot,Tcold\n",
        "  # Tout,erro,Thot,Tcold=ChangeTemp(ki,kj,i,j,Tout,Cp,deltaT)       \n",
        " "
      ],
      "execution_count": 0,
      "outputs": []
    },
    {
      "cell_type": "code",
      "metadata": {
        "colab_type": "code",
        "id": "M3ougpFws_w9",
        "colab": {}
      },
      "source": [
        "def SharkBuildMatriz(x):\n",
        "  # Ind_I,Ind_J,deltaT, Split, WhenSplit, Alpha=SharkBuildMatriz(x)\n",
        "  # add one position in three variables (Ind_J,Ind_I,deltaT)\n",
        "  # Alfa and Split (split choose the moment and alpha the fraction)\n",
        "  # Split=which stream\n",
        "  # Alfa=fraction \n",
        "  \n",
        "  global Trocas\n",
        "  NPAR=1\n",
        "  #cols=len(tempInicial)\n",
        "  size=int(3*Trocas+3) # number 3 represent split, alfa and WhenSplit\n",
        "  # add one exchange\n",
        "  x=np.array(x).reshape(1,size)\n",
        "  # print('x=');print(x)\n",
        "  Ind_I=np.zeros((NPAR,Trocas)).astype(np.int64)\n",
        "  Ind_J=np.zeros((NPAR,Trocas)).astype(np.int64)\n",
        "  \n",
        "  Tout=np.zeros((NPAR,Trocas))\n",
        "  deltaT=np.zeros((NPAR,Trocas))\n",
        "  for i in range(NPAR):\n",
        "    Alpha=x[i,size-3]\n",
        "    Split=round(x[i,size-2]).astype(np.int64)\n",
        "    WhenSplit=round(x[i,size-1]).astype(np.int64)\n",
        "    for j in range(Trocas):\n",
        "      Ind_I[i,j]=round(x[i,j])\n",
        "      Ind_J[i,j]=round(x[i,j+Trocas])\n",
        "      deltaT[i,j]=x[i,j+2*Trocas] \n",
        "\n",
        "  return Ind_I,Ind_J,deltaT, Split, WhenSplit, Alpha\n",
        "  #Ind_I,Ind_J,deltaT, Split, WhenSplit, Alpha=SharkBuildMatriz(x)"
      ],
      "execution_count": 0,
      "outputs": []
    },
    {
      "cell_type": "code",
      "metadata": {
        "id": "Ha_XxG-tT7yB",
        "colab_type": "code",
        "colab": {}
      },
      "source": [
        "def Temperatura(x):\n",
        "  global Trocas, mCp,tempInicial,tempAlvo,Ttest\n",
        "  \n",
        "  AreasTroca=[]\n",
        "  NPAR=1\n",
        "  #print(x)\n",
        "  #print('inside temperatura function')\n",
        "  Tin=np.zeros(Trocas)\n",
        "  Tout=np.zeros((NPAR,Trocas))\n",
        "  mCpin=np.zeros(Trocas)\n",
        "  \n",
        "  rows=Trocas \n",
        "  cols=Trocas\n",
        "  Rec_Temp=np.zeros((rows+5,cols))# four extra positions to better view and one to split\n",
        "\n",
        "  Ind_I,Ind_J,deltaT, Split, WhenSplit, Alpha=SharkBuildMatriz(x)\n",
        "\n",
        "  if(WhenSplit==Trocas-1):\n",
        "    Ind_1st=WhenSplit-2\n",
        "    Ind_2nd=Trocas-1\n",
        "  else:\n",
        "    Ind_1st=WhenSplit\n",
        "    Ind_2nd=Trocas-1\n",
        "  \n",
        "  #=====================\n",
        "  # part B: allocating split in cold or hot stream\n",
        "  # Hot=1 means hot stream is split\n",
        "  # Hot=0 means hot stream is not split (so cold stream is split)\n",
        "  if(tempInicial[Split]>tempAlvo[Split]): # hot stream is spliting\n",
        "    Hot=1 \n",
        "    Ind_I[0,Ind_1st]=Split # two streams are correct by split information\n",
        "    Ind_I[0,Ind_2nd]=Trocas-1 # two streams are correct by split information\n",
        "  else: # cold stream is spliting\n",
        "    Hot=0 \n",
        "    Ind_J[0,Ind_1st]=Split # two streams are correct by split information\n",
        "    Ind_J[0,Ind_2nd]=Trocas-1 # two streams are correct by split information\n",
        "\n",
        "  #=====================\n",
        "  # part C: bulding mCp with split values and temperatures with split values\n",
        "  for kk in range(Trocas-1):  # ???(Trocas-1) should be replaced by (Trocas-2)?\n",
        "    Tin[kk]=np.copy(tempInicial[kk])\n",
        "    mCpin[kk]=mCp[kk]\n",
        "\n",
        "  Tin[Trocas-1]=np.copy(tempInicial[Split])\n",
        "  mCpin[Trocas-1]=np.copy(mCpin[Split])    \n",
        "\n",
        "\n",
        "  mCpout=np.copy(mCpin)\n",
        "  if(Split==Trocas-1):\n",
        "    mCpout[Split-1]= Alpha*mCpin[Split]\n",
        "    mCpout[Split]= (1-Alpha)*mCpin[Split]\n",
        "  else:\n",
        "    mCpout[Split]=Alpha*mCpin[Split]\n",
        "    mCpout[Trocas-1]= (1-Alpha)*mCpin[Split]\n",
        "  \n",
        "  for ki in range(NPAR):\n",
        "    for kj in range(Trocas): \n",
        "      Tout[ki,kj]=np.copy(Tin[kj])\n",
        "\n",
        "  # Lists Rec_Temp is used to build graph \n",
        "  for i in range(2):\n",
        "    for j in range(cols):\n",
        "      Rec_Temp[i,j]=np.copy(Tout[0,j])\n",
        "\n",
        "  Ttest=np.copy(Tout)\n",
        "\n",
        "  #=====================\n",
        "  # part D: start get temperatures using informations build (A,B,C)\n",
        "  Cont=1\n",
        "  for ki in range(NPAR):\n",
        "    for kj in range(Trocas):\n",
        "      Cont=Cont+1\n",
        "      k=kj\n",
        "\n",
        "      if(kj==WhenSplit):\n",
        "        Cp=np.copy(mCpout)\n",
        "      elif(kj==WhenSplit+1):\n",
        "        Cp=np.copy(mCpout)\n",
        "      else:\n",
        "        Cp=np.copy(mCpin)\n",
        "\n",
        "      Tout,erro,Thot,Tcold=ChangeTemp(ki,kj,i,j,Tout,Cp,deltaT)\n",
        "\n",
        "      DifHot=Tout[ki,i]-Thot\n",
        "      DifCold=Tout[ki,j]-Tcold\n",
        "\n",
        "      if((DifHot==0) or (DifCold==0)):\n",
        "        Area=0\n",
        "      else:\n",
        "        deltaT1=Thot-Tout[ki,j]\n",
        "        deltaT2=Tout[ki,i]-Tcold\n",
        "        try:\n",
        "          A=(deltaT1-deltaT2)\n",
        "          if(A==0):\n",
        "            deltaTMediaLog=deltaT1\n",
        "          else:\n",
        "            B=np.log((deltaT1/deltaT2))\n",
        "            deltaTMediaLog=A/B\n",
        "        except:\n",
        "          deltaTMediaLog=1e99\n",
        "        \n",
        "        Area=abs(Cp[j]*(DifCold)/(U*deltaTMediaLog)) # inside else condition\n",
        "\n",
        "      AreasTroca.append(Area)\n",
        "\n",
        "\n",
        "      if(kj==WhenSplit+1):\n",
        "        if(kj<Trocas-1):\n",
        "          Taux=Alpha*Tout[ki,Split]+(1-Alpha)*Tout[ki,Trocas-1]\n",
        "          Tout[ki,Trocas-1]=np.copy(Taux)\n",
        "          Tout[ki,Split]=np.copy(Taux)\n",
        "          #Cont=Cont+1\n",
        "          for j in range(Trocas):\n",
        "            Rec_Temp[Cont,j]=np.copy(Tout[0,j])\n",
        "          Cont=Cont+1\n",
        "\n",
        "      for j in range(cols):\n",
        "        Rec_Temp[Cont,j]=np.copy(Tout[0,j])\n",
        "\n",
        "  Cont=Cont+1\n",
        "\n",
        "  for j in range(cols):\n",
        "    Rec_Temp[Cont,j]=np.copy(Tout[0,j])\n",
        "    Rec_Temp[Cont+1,j]=np.copy(Tout[0,j])\n",
        "\n",
        "  return Tout,erro,Rec_Temp,AreasTroca"
      ],
      "execution_count": 0,
      "outputs": []
    },
    {
      "cell_type": "code",
      "metadata": {
        "id": "GQ5b6YgWLNqr",
        "colab_type": "code",
        "colab": {}
      },
      "source": [
        "def Utility(mCp,Rec_Temp,tempAlvo):\n",
        "\n",
        "  global tempFinal\n",
        "  df=pd.DataFrame(Rec_Temp)\n",
        "  num=len(mCp)\n",
        "  tempFinal=np.zeros((num))\n",
        "  row=len(df.iloc[:,0])\n",
        "  col=len(df.iloc[0,:])-1\n",
        "  for i in range(row):\n",
        "    for j in range(col):\n",
        "      tempFinal[j]=np.copy(df.iloc[i,j]) \n",
        "\n",
        "  cols=len(mCp)\n",
        "  NPAR=1\n",
        "  '''\n",
        "  case II  TUQin=453 e TQout=453, TUFin=293 TUFout=313\n",
        "  '''\n",
        "  TUQin=453 # steam saturated 180 celsius\n",
        "  TUQout=453\n",
        "  TUFin=293 \n",
        "  TUFout=313\n",
        "  \n",
        "  Areas=[]\n",
        "  cargaUQtodas=[]\n",
        "  cargaUFtodas=[]\n",
        "\n",
        "  for ki in range(NPAR):\n",
        "    areaTrocador=[]\n",
        "    cargaUQ=0\n",
        "    cargaUF=0\n",
        "    for j in range(cols):\n",
        "      delta=tempAlvo[j]-tempFinal[j]\n",
        "      if(delta>0):#usa UQ\n",
        "        cargaUQ=cargaUQ+mCp[j]*delta\n",
        "        deltaT1=(TUQin-tempAlvo[j])\n",
        "        deltaT2=(TUQout-tempFinal[j])\n",
        "        A=(deltaT1-deltaT2)\n",
        "        \n",
        "        try:\n",
        "          if(A==0):\n",
        "            deltaTMediaLog=deltaT1\n",
        "          else:\n",
        "            B=np.log((deltaT1/deltaT2))\n",
        "            deltaTMediaLog=A/B\n",
        "        except:\n",
        "          deltaTMediaLog=1e99\n",
        "\n",
        "        if(deltaTMediaLog==1e99):\n",
        "          areaTrocador.append(1e99)\n",
        "        else:\n",
        "          areaTrocador.append((abs(mCp[j]*(delta)/(U*deltaTMediaLog))))\n",
        "\n",
        "      elif(delta==0):#nao usa UF e UQ\n",
        "        deltaTMediaLog=0\n",
        "        areaTrocador.append(0) \n",
        "\n",
        "      else:#usa UF\n",
        "        deltaT1=(Tout[ki,j]-TUFout)\n",
        "        deltaT2=(tempAlvo[j]-TUFin)     \n",
        "        cargaUF=cargaUF+mCp[j]*(-delta)\n",
        "\n",
        "        #UF -> água resfriada -> entra a 303K e sai a 353K\n",
        "        try:\n",
        "          A=deltaT1-deltaT2\n",
        "          B=np.log(deltaT1/deltaT2)\n",
        "          deltaTMediaLog=A/B\n",
        "        except:\n",
        "          # deltaTMediaLog=1e99\n",
        "          if(A==B):\n",
        "            deltaTMediaLog=A\n",
        "          else:\n",
        "            deltaTMediaLog=1e99\n",
        "        \n",
        "        if(deltaTMediaLog==1e99):\n",
        "          areaTrocador.append(1e99)\n",
        "        else:\n",
        "          areaTrocador.append((abs(mCp[j]*(-delta)/(U*deltaTMediaLog))))\n",
        "\n",
        "    cargaUQtodas.append(cargaUQ)\n",
        "    cargaUFtodas.append(cargaUF)\n",
        "\n",
        "    Areas.append(areaTrocador)\n",
        "\n",
        "  return Areas, cargaUQtodas,cargaUFtodas\n",
        "\n",
        "  # Areas, cargaUQtodas,cargaUFtodas=Utility(mCp,Rec_Temp,tempAlvo)"
      ],
      "execution_count": 0,
      "outputs": []
    },
    {
      "cell_type": "code",
      "metadata": {
        "id": "gv1ZudaGvEYt",
        "colab_type": "code",
        "colab": {}
      },
      "source": [
        "\n",
        "def CustoProcesso(Areas,Utilidades,cargaUFtodas,cargaUQtodas):\n",
        "  global coefCustoUQ,coefCustoUF\n",
        "  \n",
        "  NPAR=1\n",
        "  costTrocadores=0\n",
        "  Soma=0\n",
        "  cost=np.zeros((NPAR))\n",
        "  for i in range(NPAR):\n",
        "    cargaUQ=cargaUQtodas[i]\n",
        "    cargaUF=cargaUFtodas[i]\n",
        "    areaUtilidades=np.array(Utilidades).ravel()\n",
        "    Areas=np.array(Areas)\n",
        "    \n",
        "    col=len(Areas)\n",
        "\n",
        "    for j in range(col):\n",
        "      Soma=Soma+9094+221*Areas[j]**0.81\n",
        "\n",
        "    cols=len(areaUtilidades)\n",
        "    for j in range(cols):\n",
        "      Soma=Soma+9094+221*areaUtilidades[j]**0.81\n",
        "\n",
        "    costTrocadores=Soma  \n",
        "    costUQ=coefCustoUQ*cargaUQ\n",
        "    costUF=coefCustoUF*cargaUF\n",
        "    \n",
        "    if(costTrocadores>=1e99):\n",
        "      cost[i]=1e99\n",
        "    else:\n",
        "      cost[i]=abs(costUQ)+abs(costUF)+costTrocadores\n",
        "\n",
        "\n",
        "  return cost"
      ],
      "execution_count": 0,
      "outputs": []
    },
    {
      "cell_type": "code",
      "metadata": {
        "id": "lmPfZ7arakM1",
        "colab_type": "code",
        "colab": {}
      },
      "source": [
        "#FUN calcula o TAC para um determinado arranjo\n",
        "#  cada calculo é feito em uma funcao a parte Fun usa todas funcoes \n",
        "\n",
        "def FUN(x):\n",
        "\n",
        "  global mCp,tempAtual,tempAlvo,tempInicial,U,coefCustoUQ,coefCustoUF\n",
        "  # next is temporary test variables\n",
        "  # global bounds\n",
        "  NPAR=1\n",
        "  \n",
        "  funr=np.zeros((NPAR))\n",
        "  cols=len(mCp)\n",
        "  Ind_I,Ind_J,deltaT, Split, WhenSplit, Alpha=SharkBuildMatriz(x)\n",
        "  x = x.reshape(-1, 18)\n",
        "  Tout,Erro,Rec_Temp,AreaCada= Temperatura(x)\n",
        "\n",
        "  areaTrocadores=np.array(AreaCada).ravel()\n",
        "\n",
        "  areaUtilidade, cargaUQ,cargaUF=Utility(mCp,Rec_Temp,tempAlvo)\n",
        "  cost=CustoProcesso(areaTrocadores,areaUtilidade,cargaUF,cargaUQ)\n",
        "  funr=cost\n",
        "\n",
        "  for k in range(NPAR):\n",
        "    if(Erro[k]>0):\n",
        "      funr[k]=1e99\n",
        "  funr = np.where(np.isnan(cost), 1e99, cost)\n",
        "\n",
        "  return funr "
      ],
      "execution_count": 0,
      "outputs": []
    },
    {
      "cell_type": "code",
      "metadata": {
        "id": "K4uCBdRVKAOf",
        "colab_type": "code",
        "outputId": "2fee1ec3-3e35-4f35-cd95-94d5142c4166",
        "colab": {
          "base_uri": "https://localhost:8080/",
          "height": 185
        }
      },
      "source": [
        "\n",
        "Ttest=np.zeros((1,Trocas))\n",
        "\n",
        "Ind_I,Ind_J,deltaT, Split, WhenSplit, Alpha=SharkBuildMatriz(x)\n",
        "Tout,erro,Rec_Temp,AreasTroca=Temperatura(x)\n",
        "\n",
        "print(Ind_I)\n",
        "print(Ind_J)\n",
        "print(deltaT)\n",
        "print('Split=',Split)\n",
        "print(Alpha)\n",
        "print(WhenSplit)\n",
        "print(\"#####------######\")\n",
        "print(Ttest)\n",
        "print(tempInicial)\n",
        "print(\"AreasTroca=\",AreasTroca)\n",
        "\n"
      ],
      "execution_count": 12,
      "outputs": [
        {
          "output_type": "stream",
          "text": [
            "[[0 2 0 0 2]]\n",
            "[[1 1 3 2 0]]\n",
            "[[-37.3123404  -17.17989576 -30.48058946 -28.77755914 -52.00250773]]\n",
            "Split= 2\n",
            "0.34745343778919213\n",
            "1\n",
            "#####------######\n",
            "[[423. 443. 323. 353. 323.]]\n",
            "[423.0, 443.0, 323.0, 353.0]\n",
            "AreasTroca= [840.7353759571773, 384.3091383068557, 0, 0, 0]\n"
          ],
          "name": "stdout"
        }
      ]
    },
    {
      "cell_type": "code",
      "metadata": {
        "id": "staDxSeFWyzK",
        "colab_type": "code",
        "outputId": "be07bf95-e3a6-4218-e541-f0db57da9208",
        "colab": {
          "base_uri": "https://localhost:8080/",
          "height": 252
        }
      },
      "source": [
        "\n",
        "print('=====================')\n",
        "Tout,erro,Rec_Temp,AreasTroca =Temperatura(x)\n",
        "df=pd.DataFrame(Rec_Temp)\n",
        "print('*****',Tout)\n",
        "#print(erro)\n",
        "print(df)\n",
        "print(\"AreasTroca=\",AreasTroca)\n"
      ],
      "execution_count": 13,
      "outputs": [
        {
          "output_type": "stream",
          "text": [
            "=====================\n",
            "***** [[423.         388.50776385 344.95865822 353.         344.95865822]]\n",
            "       0           1           2      3           4\n",
            "0  423.0  443.000000  323.000000  353.0  323.000000\n",
            "1  423.0  443.000000  323.000000  353.0  323.000000\n",
            "2  423.0  405.687660  323.000000  353.0  347.874894\n",
            "3  423.0  388.507764  323.000000  353.0  356.650715\n",
            "4  423.0  388.507764  344.958658  353.0  344.958658\n",
            "5  423.0  388.507764  344.958658  353.0  344.958658\n",
            "6  423.0  388.507764  344.958658  353.0  344.958658\n",
            "7  423.0  388.507764  344.958658  353.0  344.958658\n",
            "8  423.0  388.507764  344.958658  353.0  344.958658\n",
            "9  423.0  388.507764  344.958658  353.0  344.958658\n",
            "AreasTroca= [840.7353759571773, 384.3091383068557, 0, 0, 0]\n"
          ],
          "name": "stdout"
        }
      ]
    },
    {
      "cell_type": "code",
      "metadata": {
        "id": "ouDIo9TxD5Tm",
        "colab_type": "code",
        "outputId": "69724bdc-0642-4ea9-d027-ecb957657acd",
        "colab": {
          "base_uri": "https://localhost:8080/",
          "height": 34
        }
      },
      "source": [
        "print(deltaT)"
      ],
      "execution_count": 14,
      "outputs": [
        {
          "output_type": "stream",
          "text": [
            "[[-37.3123404  -17.17989576 -30.48058946 -28.77755914 -52.00250773]]\n"
          ],
          "name": "stdout"
        }
      ]
    },
    {
      "cell_type": "code",
      "metadata": {
        "id": "A-E5HgBaPVC-",
        "colab_type": "code",
        "outputId": "eed6860d-c1e0-4a0d-9f2e-3d59615f07c9",
        "colab": {
          "base_uri": "https://localhost:8080/",
          "height": 101
        }
      },
      "source": [
        "Areas, cargaUQtodas,cargaUFtodas=Utility(mCp,Rec_Temp,tempAlvo)\n",
        "print('Area utilidades=',Areas)\n",
        "print('cargaUQtodas=',cargaUQtodas)\n",
        "print('cargaUFtodas=',cargaUFtodas)\n",
        "print('tempFinal=',tempFinal)\n",
        "print('tempAlvo=',tempAlvo)"
      ],
      "execution_count": 15,
      "outputs": [
        {
          "output_type": "stream",
          "text": [
            "Area utilidades= [[3248.207460325652, 1807.176144105972, 1764.5081576974728, 1783.374719693662]]\n",
            "cargaUQtodas= [29412.40253350766]\n",
            "cargaUFtodas= [27550.776384612116]\n",
            "tempFinal= [423.         388.50776385 344.95865822 353.        ]\n",
            "tempAlvo= [323.0, 313.0, 393.0, 383.0]\n"
          ],
          "name": "stdout"
        }
      ]
    },
    {
      "cell_type": "code",
      "metadata": {
        "id": "S80QizOyk77C",
        "colab_type": "code",
        "outputId": "4eb10264-8054-4e2c-ee80-f3581ed53769",
        "colab": {
          "base_uri": "https://localhost:8080/",
          "height": 34
        }
      },
      "source": [
        "print(WhenSplit)"
      ],
      "execution_count": 16,
      "outputs": [
        {
          "output_type": "stream",
          "text": [
            "1\n"
          ],
          "name": "stdout"
        }
      ]
    },
    {
      "cell_type": "code",
      "metadata": {
        "id": "z4RyeYueqKN1",
        "colab_type": "code",
        "outputId": "c3478b88-c015-4517-dedc-9609ba49e91f",
        "colab": {
          "base_uri": "https://localhost:8080/",
          "height": 296
        }
      },
      "source": [
        "#df = df[:-1]\n",
        "Imagem=len(df.iloc[:,0]) # Imagens+5 to get better graph postions\n",
        "Change=range(Imagem)\n",
        "for k in range(Trocas):\n",
        "  plt.plot(Change,df.iloc[:,k])\n",
        "\n",
        "plt.xlabel('Stages')\n",
        "plt.ylabel('Temperature (K)')"
      ],
      "execution_count": 17,
      "outputs": [
        {
          "output_type": "execute_result",
          "data": {
            "text/plain": [
              "Text(0, 0.5, 'Temperature (K)')"
            ]
          },
          "metadata": {
            "tags": []
          },
          "execution_count": 17
        },
        {
          "output_type": "display_data",
          "data": {
            "image/png": "[encoded data removed]",
            "text/plain": [
              "<Figure size 432x288 with 1 Axes>"
            ]
          },
          "metadata": {
            "tags": [],
            "needs_background": "light"
          }
        }
      ]
    },
    {
      "cell_type": "code",
      "metadata": {
        "id": "Rq6zaln-6cGn",
        "colab_type": "code",
        "outputId": "b2534188-5ae0-4681-9e25-2391e4bc6bf5",
        "colab": {
          "base_uri": "https://localhost:8080/",
          "height": 202
        }
      },
      "source": [
        "print(df)"
      ],
      "execution_count": 18,
      "outputs": [
        {
          "output_type": "stream",
          "text": [
            "       0           1           2      3           4\n",
            "0  423.0  443.000000  323.000000  353.0  323.000000\n",
            "1  423.0  443.000000  323.000000  353.0  323.000000\n",
            "2  423.0  405.687660  323.000000  353.0  347.874894\n",
            "3  423.0  388.507764  323.000000  353.0  356.650715\n",
            "4  423.0  388.507764  344.958658  353.0  344.958658\n",
            "5  423.0  388.507764  344.958658  353.0  344.958658\n",
            "6  423.0  388.507764  344.958658  353.0  344.958658\n",
            "7  423.0  388.507764  344.958658  353.0  344.958658\n",
            "8  423.0  388.507764  344.958658  353.0  344.958658\n",
            "9  423.0  388.507764  344.958658  353.0  344.958658\n"
          ],
          "name": "stdout"
        }
      ]
    },
    {
      "cell_type": "code",
      "metadata": {
        "id": "r1Uf0lNsfPAf",
        "colab_type": "code",
        "colab": {}
      },
      "source": [
        "#print(Rec_Tcold)\n",
        "#print(Rec_Thot)"
      ],
      "execution_count": 0,
      "outputs": []
    },
    {
      "cell_type": "code",
      "metadata": {
        "id": "stkxAEVg9kcg",
        "colab_type": "code",
        "outputId": "f2607ceb-0a74-4459-9063-1ae408c6f7bb",
        "colab": {
          "base_uri": "https://localhost:8080/",
          "height": 67
        }
      },
      "source": [
        "print(Split)\n",
        "print(WhenSplit)\n",
        "print(tempInicial)\n"
      ],
      "execution_count": 20,
      "outputs": [
        {
          "output_type": "stream",
          "text": [
            "2\n",
            "1\n",
            "[423.0, 443.0, 323.0, 353.0]\n"
          ],
          "name": "stdout"
        }
      ]
    },
    {
      "cell_type": "code",
      "metadata": {
        "id": "98ebmeBd6e5L",
        "colab_type": "code",
        "outputId": "71ef3da7-19bc-4e3a-f9ea-70b771236313",
        "colab": {
          "base_uri": "https://localhost:8080/",
          "height": 54
        }
      },
      "source": [
        "'''\n",
        "fobj=FUN\n",
        "\n",
        "x=np.zeros((NPAR,cols))\n",
        "for i in range(NPAR):\n",
        "  for j in range(cols):\n",
        "    r=np.random.random()\n",
        "    x[i,j]=r*(MAX[j]-MIN[j])+MIN[j]\n",
        "\n",
        "x,BEST,FOBEST,XY,BEST_XY=de_bounds_matriz.de(bounds, mut, crossp, \n",
        "                                             NPAR, its,fobj,x)\n",
        "'''"
      ],
      "execution_count": 21,
      "outputs": [
        {
          "output_type": "execute_result",
          "data": {
            "text/plain": [
              "'\\nfobj=FUN\\n\\nx=np.zeros((NPAR,cols))\\nfor i in range(NPAR):\\n  for j in range(cols):\\n    r=np.random.random()\\n    x[i,j]=r*(MAX[j]-MIN[j])+MIN[j]\\n\\nx,BEST,FOBEST,XY,BEST_XY=de_bounds_matriz.de(bounds, mut, crossp, \\n                                             NPAR, its,fobj,x)\\n'"
            ]
          },
          "metadata": {
            "tags": []
          },
          "execution_count": 21
        }
      ]
    },
    {
      "cell_type": "code",
      "metadata": {
        "id": "hYIQciQQVGNp",
        "colab_type": "code",
        "colab": {}
      },
      "source": [
        "def fun2fun(xw):\n",
        "\n",
        "  #global bounds,mut,crossp,NPAR,its,cols,MAX,MIN\n",
        "\n",
        "\n",
        "  fobj=FUN\n",
        "\n",
        "  x=np.zeros((NPAR,cols))\n",
        "  for i in range(NPAR):\n",
        "    for j in range(cols):\n",
        "      r=np.random.random()\n",
        "      x[i,j]=r*(MAX[j]-MIN[j])+MIN[j]\n",
        "  \n",
        "  Num=2*Trocas\n",
        "  #print(xw)\n",
        "\n",
        "  for i in range(NPAR):\n",
        "    for j in range(Num):\n",
        "      #print(\"i=%d j=%d\"%(i,j))\n",
        "      x[i,j]=np.copy(xw[j])\n",
        "\n",
        "  #print(x)\n",
        "  #print(\"======\")\n",
        "\n",
        "  x,BEST,FOBEST,XY,BEST_XY=de_bounds_matriz.de(bounds, mut, crossp, \n",
        "                                              NPAR, its,fobj,x)\n",
        "  \n",
        "  for i in range(NPAR):\n",
        "    for j in range(Num):\n",
        "      x[i,j]=np.copy(xw[j])\n",
        "\n",
        "  return FOBEST"
      ],
      "execution_count": 0,
      "outputs": []
    },
    {
      "cell_type": "code",
      "metadata": {
        "id": "QGgCjPHSV7Gi",
        "colab_type": "code",
        "colab": {}
      },
      "source": [
        "fobj=fun2fun\n",
        "\n",
        "NPAR=40 # new origin to meth\n",
        "itsq=30 # new origin to meth\n",
        "\n",
        "NPQR=25 # new origin to meth\n",
        "its=20 # new origin to meth\n",
        "xw=np.zeros((NPQR,cols))\n",
        "\n",
        "for i in range(NPQR):\n",
        "  for j in range(cols):\n",
        "    r=np.random.random()\n",
        "    xw[i,j]=r*(MAX[j]-MIN[j])+MIN[j]\n",
        "\n",
        "x,BEST,FOBEST,XY,BEST_XY=de_bounds_matriz.de(bounds, mut, crossp, \n",
        "                                              NPQR, itsq,fobj,xw)"
      ],
      "execution_count": 0,
      "outputs": []
    },
    {
      "cell_type": "code",
      "metadata": {
        "id": "_u4jkAgmZWAz",
        "colab_type": "code",
        "colab": {}
      },
      "source": [
        "'''\n",
        "print(x)\n",
        "print(NPAR)\n",
        "print(cols)\n",
        "print(Trocas)\n",
        "'''"
      ],
      "execution_count": 0,
      "outputs": []
    },
    {
      "cell_type": "code",
      "metadata": {
        "id": "H1vR1CCOfG2S",
        "colab_type": "code",
        "colab": {}
      },
      "source": [
        "print(BEST)"
      ],
      "execution_count": 0,
      "outputs": []
    },
    {
      "cell_type": "code",
      "metadata": {
        "id": "tSXs89ll9-LJ",
        "colab_type": "code",
        "colab": {}
      },
      "source": [
        "print(FOBEST)"
      ],
      "execution_count": 0,
      "outputs": []
    },
    {
      "cell_type": "code",
      "metadata": {
        "id": "6hyOxTBGfbg4",
        "colab_type": "code",
        "colab": {}
      },
      "source": [
        "xbest=BEST\n",
        "print('=====================')\n",
        "Tout,erro,Rec_Temp,AreasTroca =Temperatura(xbest)\n",
        "df=pd.DataFrame(Rec_Temp)\n",
        "print('*****',Tout)\n",
        "#print(erro)\n",
        "print(df)\n",
        "print(\"AreasTroca=\",AreasTroca)"
      ],
      "execution_count": 0,
      "outputs": []
    },
    {
      "cell_type": "code",
      "metadata": {
        "id": "ucmPFbcPf0fz",
        "colab_type": "code",
        "colab": {}
      },
      "source": [
        "Imagem=len(df.iloc[:,0]) # Imagens+5 to get better graph postions\n",
        "Change=range(Imagem)\n",
        "for k in range(Trocas):\n",
        "  plt.plot(Change,df.iloc[:,k])\n",
        "\n",
        "plt.xlabel('Stages')\n",
        "plt.ylabel('Temperature (K)')"
      ],
      "execution_count": 0,
      "outputs": []
    },
    {
      "cell_type": "code",
      "metadata": {
        "id": "82zAZ6wyKVnu",
        "colab_type": "code",
        "colab": {}
      },
      "source": [
        "print('=====================')\n",
        "x=BEST\n",
        "Tout,erro,Rec_Temp,AreasTroca =Temperatura(x)\n",
        "df=pd.DataFrame(Rec_Temp)\n",
        "print('*****',Tout)\n",
        "#print(erro)\n",
        "print(df)\n",
        "print(\"AreasTroca=\",AreasTroca)"
      ],
      "execution_count": 0,
      "outputs": []
    },
    {
      "cell_type": "code",
      "metadata": {
        "id": "4mdDh6nBK02F",
        "colab_type": "code",
        "colab": {}
      },
      "source": [
        "Areas, cargaUQtodas,cargaUFtodas=Utility(mCp,Rec_Temp,tempAlvo)\n",
        "print('Areas utilidades=',Areas)\n",
        "Tout,erro,Rec_Temp,AreaCada =Temperatura(BEST)\n",
        "print('Areas trocadores=',AreaCada)\n",
        "print('cargaUQtodas=',cargaUQtodas)\n",
        "print('cargaUFtodas=',cargaUFtodas)\n",
        "print('tempFinal=',tempFinal)\n",
        "print('tempAlvo=',tempAlvo)\n",
        "print('tempInicial=',tempInicial)"
      ],
      "execution_count": 0,
      "outputs": []
    },
    {
      "cell_type": "code",
      "metadata": {
        "id": "lmsE4caSHdM9",
        "colab_type": "code",
        "colab": {}
      },
      "source": [
        "Soma=0\n",
        "Areas=np.array(Areas)\n",
        "row, col=Areas.shape\n",
        "print(col)\n",
        "for j in range(col):\n",
        "  Soma=Soma+9094+221*Areas[0,j]**0.81\n",
        "print(Soma)\n",
        "\n",
        "Soma=0\n",
        "Areas=np.array(AreaCada)\n",
        "col=5\n",
        "for j in range(col):\n",
        "  Soma=Soma+9094+221*Areas[j]**0.81\n",
        "print(Soma)\n"
      ],
      "execution_count": 0,
      "outputs": []
    },
    {
      "cell_type": "code",
      "metadata": {
        "id": "I69ZEmwEReg4",
        "colab_type": "code",
        "colab": {}
      },
      "source": [
        "Ind_I,Ind_J,deltaT, Split, WhenSplit, Alpha=SharkBuildMatriz(BEST)\n",
        "print('Alpha=',Alpha)"
      ],
      "execution_count": 0,
      "outputs": []
    },
    {
      "cell_type": "code",
      "metadata": {
        "id": "FkXhJoSF6_Nw",
        "colab_type": "code",
        "colab": {}
      },
      "source": [
        "print(FOBEST)"
      ],
      "execution_count": 0,
      "outputs": []
    },
    {
      "cell_type": "code",
      "metadata": {
        "id": "gIFuvid_MpGL",
        "colab_type": "code",
        "colab": {}
      },
      "source": [
        "end_time=time.time()\n",
        "delta_time=(end_time-start_time)/60\n",
        "print(\"minutes=\",delta_time)"
      ],
      "execution_count": 0,
      "outputs": []
    }
  ]
}