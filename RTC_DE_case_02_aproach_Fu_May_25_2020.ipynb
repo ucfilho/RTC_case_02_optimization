{
  "nbformat": 4,
  "nbformat_minor": 0,
  "metadata": {
    "colab": {
      "name": "RTC_DE_case_02_aproach_Fu_May_25_2020.ipynb",
      "provenance": [],
      "collapsed_sections": [],
      "include_colab_link": true
    },
    "kernelspec": {
      "name": "python3",
      "display_name": "Python 3"
    }
  },
  "cells": [
    {
      "cell_type": "markdown",
      "metadata": {
        "id": "view-in-github",
        "colab_type": "text"
      },
      "source": [
        "<a href=\"https://colab.research.google.com/github/ucfilho/RTC_case_02_optimization/blob/master/RTC_DE_case_02_aproach_Fu_May_25_2020.ipynb\" target=\"_parent\"><img src=\"https://colab.research.google.com/assets/colab-badge.svg\" alt=\"Open In Colab\"/></a>"
      ]
    },
    {
      "cell_type": "code",
      "metadata": {
        "id": "wGzR2VpcZHYA",
        "colab_type": "code",
        "colab": {}
      },
      "source": [
        "import pandas as pd\n",
        "from scipy.optimize import differential_evolution\n",
        "import numpy as np\n",
        "import matplotlib.pyplot as plt\n",
        "import time\n"
      ],
      "execution_count": 0,
      "outputs": []
    },
    {
      "cell_type": "code",
      "metadata": {
        "id": "GHR8GfAsMOQY",
        "colab_type": "code",
        "colab": {}
      },
      "source": [
        "start_time = time.time()\n"
      ],
      "execution_count": 0,
      "outputs": []
    },
    {
      "cell_type": "code",
      "metadata": {
        "id": "Dt6anZvATxzg",
        "colab_type": "code",
        "colab": {}
      },
      "source": [
        "#********************PROGRAMA PRINCIPAL*************************\n",
        "\n",
        "Trocas=5\n",
        "mCp=[200,100,300,500] #[kW/K]\n",
        "tempInicial=[423.0,443.0,323.0,353.0] #[K]\n",
        "tempAtual=np.copy(tempInicial) \n",
        "tempAlvo=[323.0,313.0,393.0,383.0] #[K]\n",
        "U=0.1 #[kW/(m2.K)]\n",
        "coefCustoUQ=110.0 #[$/(kW.ano)]\n",
        "coefCustoUF=10.0 #[$/(kW.ano)]\n",
        "\n",
        "# the last position in MAX and MIN vector represent which moment the split \n",
        "#    occur not which stream (split represent which stream) \n",
        "#    for this reason it reach larger value\n",
        "#MAX=np.array([3,3,3,3,3,3,3,3,3,3,0,0,0,0,0,1,3,4]) # ,1,3,4]) Alpha,Split,WhenSplit\n",
        "#MIN=np.array([0,0,0,0,0,0,0,0,0,0,-100,-100,-100,-100,-100,0,0,0])\n",
        "\n",
        "MAX=np.array([3,3,3,3,3,3,3,3,3,3,0,0,0,0,0,0.88,3,4]) # ,1,3,4]) Alpha,Split,WhenSplit\n",
        "MIN=np.array([0,0,0,0,0,0,0,0,0,0,-100,-100,-100,-100,-100,0.15,0,0])\n",
        "NPAR=1\n",
        "\n",
        "\n",
        "\n",
        "cols=int(3*Trocas+3)\n",
        "x=np.zeros((NPAR,cols))\n",
        "\n",
        "for i in range(NPAR):\n",
        "  for j in range(cols):\n",
        "    r=np.random.random()\n",
        "    x[i,j]=r*(MAX[j]-MIN[j])+MIN[j]\n",
        "\n",
        "bounds=[]\n",
        "for k in range(len(MAX)):\n",
        "  bounds.append((MIN[k],MAX[k]))\n",
        "\n",
        "\n",
        "#print(bounds)\n",
        "\n",
        "mut=0.5\n",
        "crossp=0.5\n",
        "NPAR=80\n",
        "its=100\n",
        "cols=18"
      ],
      "execution_count": 0,
      "outputs": []
    },
    {
      "cell_type": "code",
      "metadata": {
        "id": "wkePQEVg8bbY",
        "colab_type": "code",
        "colab": {}
      },
      "source": [
        "# Enthalpy =  2014 (kJ/kg )\n",
        "# https://www.engineeringtoolbox.com/saturated-steam-properties-d_101.html"
      ],
      "execution_count": 0,
      "outputs": []
    },
    {
      "cell_type": "code",
      "metadata": {
        "id": "MjqwkVE67u2g",
        "colab_type": "code",
        "outputId": "1b1e842f-b383-4ef3-c7f3-fb0d78fd6ae5",
        "colab": {
          "base_uri": "https://localhost:8080/",
          "height": 72
        }
      },
      "source": [
        "!git clone https://github.com/ucfilho/raianars_RTC_optimization #clonar do Github\n",
        "%cd raianars_RTC_optimization\n",
        "import de_bounds_matriz"
      ],
      "execution_count": 5,
      "outputs": [
        {
          "output_type": "stream",
          "text": [
            "fatal: destination path 'raianars_RTC_optimization' already exists and is not an empty directory.\n",
            "/content/raianars_RTC_optimization\n"
          ],
          "name": "stdout"
        }
      ]
    },
    {
      "cell_type": "code",
      "metadata": {
        "id": "AJAKALcG-KF6",
        "colab_type": "code",
        "colab": {}
      },
      "source": [
        "def ChangeTemp(ki,kj,i,j,Tout,Cp,deltaT):\n",
        "  global NPAR\n",
        "  erro=np.zeros((NPAR)) # erro=1 if there  is an error : penalties\n",
        "  tempSaidaQ=Tout[ki,i]+deltaT[ki,kj]\n",
        "  tempSaidaF=-Cp[kj]*deltaT[ki,kj]/(Cp[j])+Tout[ki,j]\n",
        "  flag=0 # flag : logical test\n",
        "  Thot=np.copy(Tout[ki,i]) # value used to return original value (if request)\n",
        "  Tcold=np.copy(Tout[ki,j]) # value used to return original value (if request)\n",
        "  if(Tout[ki,i] > Tout[ki,j]): #Tquente maior Tfria: vaores atuais\n",
        "    if(tempSaidaQ > tempSaidaF):#Tquente maior Tfria: saidas\n",
        "      flag=1\n",
        "  if(flag>0):\n",
        "    Tout[ki,i]=tempSaidaQ\n",
        "    Tout[ki,j]=tempSaidaF\n",
        "  else:\n",
        "    erro[ki]=1\n",
        "\n",
        "  return Tout,erro,Thot,Tcold\n",
        "  # Tout,erro,Thot,Tcold=ChangeTemp(ki,kj,i,j,Tout,Cp,deltaT)       \n",
        " "
      ],
      "execution_count": 0,
      "outputs": []
    },
    {
      "cell_type": "code",
      "metadata": {
        "colab_type": "code",
        "id": "M3ougpFws_w9",
        "colab": {}
      },
      "source": [
        "def SharkBuildMatriz(x):\n",
        "  # Ind_I,Ind_J,deltaT, Split, WhenSplit, Alpha=SharkBuildMatriz(x)\n",
        "  # add one position in three variables (Ind_J,Ind_I,deltaT)\n",
        "  # Alfa and Split (split choose the moment and alpha the fraction)\n",
        "  # Split=which stream\n",
        "  # Alfa=fraction \n",
        "  \n",
        "  global Trocas\n",
        "  NPAR=1\n",
        "  #cols=len(tempInicial)\n",
        "  size=int(3*Trocas+3) # number 3 represent split, alfa and WhenSplit\n",
        "  # add one exchange\n",
        "  x=np.array(x).reshape(1,size)\n",
        "  # print('x=');print(x)\n",
        "  Ind_I=np.zeros((NPAR,Trocas)).astype(np.int64)\n",
        "  Ind_J=np.zeros((NPAR,Trocas)).astype(np.int64)\n",
        "  \n",
        "  Tout=np.zeros((NPAR,Trocas))\n",
        "  deltaT=np.zeros((NPAR,Trocas))\n",
        "  for i in range(NPAR):\n",
        "    Alpha=x[i,size-3]\n",
        "    Split=round(x[i,size-2]).astype(np.int64)\n",
        "    WhenSplit=round(x[i,size-1]).astype(np.int64)\n",
        "    for j in range(Trocas):\n",
        "      Ind_I[i,j]=round(x[i,j])\n",
        "      Ind_J[i,j]=round(x[i,j+Trocas])\n",
        "      deltaT[i,j]=x[i,j+2*Trocas] \n",
        "\n",
        "  return Ind_I,Ind_J,deltaT, Split, WhenSplit, Alpha\n",
        "  #Ind_I,Ind_J,deltaT, Split, WhenSplit, Alpha=SharkBuildMatriz(x)"
      ],
      "execution_count": 0,
      "outputs": []
    },
    {
      "cell_type": "code",
      "metadata": {
        "id": "Ha_XxG-tT7yB",
        "colab_type": "code",
        "colab": {}
      },
      "source": [
        "def Temperatura(x):\n",
        "  global Trocas, mCp,tempInicial,tempAlvo,Ttest\n",
        "  \n",
        "  AreasTroca=[]\n",
        "  NPAR=1\n",
        "  #print(x)\n",
        "  #print('inside temperatura function')\n",
        "  Tin=np.zeros(Trocas)\n",
        "  Tout=np.zeros((NPAR,Trocas))\n",
        "  mCpin=np.zeros(Trocas)\n",
        "  \n",
        "  rows=Trocas \n",
        "  cols=Trocas\n",
        "  Rec_Temp=np.zeros((rows+5,cols))# four extra positions to better view and one to split\n",
        "\n",
        "  Ind_I,Ind_J,deltaT, Split, WhenSplit, Alpha=SharkBuildMatriz(x)\n",
        "\n",
        "  if(WhenSplit==Trocas-1):\n",
        "    Ind_1st=WhenSplit-2\n",
        "    Ind_2nd=Trocas-1\n",
        "  else:\n",
        "    Ind_1st=WhenSplit\n",
        "    Ind_2nd=Trocas-1\n",
        "  \n",
        "  #=====================\n",
        "  # part B: allocating split in cold or hot stream\n",
        "  # Hot=1 means hot stream is split\n",
        "  # Hot=0 means hot stream is not split (so cold stream is split)\n",
        "  if(tempInicial[Split]>tempAlvo[Split]): # hot stream is spliting\n",
        "    Hot=1 \n",
        "    Ind_I[0,Ind_1st]=Split # two streams are correct by split information\n",
        "    Ind_I[0,Ind_2nd]=Trocas-1 # two streams are correct by split information\n",
        "  else: # cold stream is spliting\n",
        "    Hot=0 \n",
        "    Ind_J[0,Ind_1st]=Split # two streams are correct by split information\n",
        "    Ind_J[0,Ind_2nd]=Trocas-1 # two streams are correct by split information\n",
        "\n",
        "  #=====================\n",
        "  # part C: bulding mCp with split values and temperatures with split values\n",
        "  for kk in range(Trocas-1):  # ???(Trocas-1) should be replaced by (Trocas-2)?\n",
        "    Tin[kk]=np.copy(tempInicial[kk])\n",
        "    mCpin[kk]=mCp[kk]\n",
        "\n",
        "  Tin[Trocas-1]=np.copy(tempInicial[Split])\n",
        "  mCpin[Trocas-1]=np.copy(mCpin[Split])    \n",
        "\n",
        "\n",
        "  mCpout=np.copy(mCpin)\n",
        "  if(Split==Trocas-1):\n",
        "    mCpout[Split-1]= Alpha*mCpin[Split]\n",
        "    mCpout[Split]= (1-Alpha)*mCpin[Split]\n",
        "  else:\n",
        "    mCpout[Split]=Alpha*mCpin[Split]\n",
        "    mCpout[Trocas-1]= (1-Alpha)*mCpin[Split]\n",
        "  \n",
        "  for ki in range(NPAR):\n",
        "    for kj in range(Trocas): \n",
        "      Tout[ki,kj]=np.copy(Tin[kj])\n",
        "\n",
        "  # Lists Rec_Temp is used to build graph \n",
        "  for i in range(2):\n",
        "    for j in range(cols):\n",
        "      Rec_Temp[i,j]=np.copy(Tout[0,j])\n",
        "\n",
        "  Ttest=np.copy(Tout)\n",
        "\n",
        "  #=====================\n",
        "  # part D: start get temperatures using informations build (A,B,C)\n",
        "  Cont=1\n",
        "  for ki in range(NPAR):\n",
        "    for kj in range(Trocas):\n",
        "      Cont=Cont+1\n",
        "      k=kj\n",
        "\n",
        "      if(kj==WhenSplit):\n",
        "        Cp=np.copy(mCpout)\n",
        "      elif(kj==WhenSplit+1):\n",
        "        Cp=np.copy(mCpout)\n",
        "      else:\n",
        "        Cp=np.copy(mCpin)\n",
        "\n",
        "      Tout,erro,Thot,Tcold=ChangeTemp(ki,kj,i,j,Tout,Cp,deltaT)\n",
        "\n",
        "      DifHot=Tout[ki,i]-Thot\n",
        "      DifCold=Tout[ki,j]-Tcold\n",
        "\n",
        "      if((DifHot==0) or (DifCold==0)):\n",
        "        Area=0\n",
        "      else:\n",
        "        deltaT1=Thot-Tout[ki,j]\n",
        "        deltaT2=Tout[ki,i]-Tcold\n",
        "        try:\n",
        "          A=(deltaT1-deltaT2)\n",
        "          if(A==0):\n",
        "            deltaTMediaLog=deltaT1\n",
        "          else:\n",
        "            B=np.log((deltaT1/deltaT2))\n",
        "            deltaTMediaLog=A/B\n",
        "        except:\n",
        "          deltaTMediaLog=1e99\n",
        "        \n",
        "        Area=abs(Cp[j]*(DifCold)/(U*deltaTMediaLog)) # inside else condition\n",
        "\n",
        "      AreasTroca.append(Area)\n",
        "\n",
        "\n",
        "      if(kj==WhenSplit+1):\n",
        "        if(kj<Trocas-1):\n",
        "          Taux=Alpha*Tout[ki,Split]+(1-Alpha)*Tout[ki,Trocas-1]\n",
        "          Tout[ki,Trocas-1]=np.copy(Taux)\n",
        "          Tout[ki,Split]=np.copy(Taux)\n",
        "          #Cont=Cont+1\n",
        "          for j in range(Trocas):\n",
        "            Rec_Temp[Cont,j]=np.copy(Tout[0,j])\n",
        "          Cont=Cont+1\n",
        "\n",
        "      for j in range(cols):\n",
        "        Rec_Temp[Cont,j]=np.copy(Tout[0,j])\n",
        "\n",
        "  Cont=Cont+1\n",
        "\n",
        "  for j in range(cols):\n",
        "    Rec_Temp[Cont,j]=np.copy(Tout[0,j])\n",
        "    Rec_Temp[Cont+1,j]=np.copy(Tout[0,j])\n",
        "\n",
        "  return Tout,erro,Rec_Temp,AreasTroca"
      ],
      "execution_count": 0,
      "outputs": []
    },
    {
      "cell_type": "code",
      "metadata": {
        "id": "GQ5b6YgWLNqr",
        "colab_type": "code",
        "colab": {}
      },
      "source": [
        "def Utility(mCp,Rec_Temp,tempAlvo):\n",
        "\n",
        "  global tempFinal\n",
        "  df=pd.DataFrame(Rec_Temp)\n",
        "  num=len(mCp)\n",
        "  tempFinal=np.zeros((num))\n",
        "  row=len(df.iloc[:,0])\n",
        "  col=len(df.iloc[0,:])-1\n",
        "  for i in range(row):\n",
        "    for j in range(col):\n",
        "      tempFinal[j]=np.copy(df.iloc[i,j]) \n",
        "\n",
        "  cols=len(mCp)\n",
        "  NPAR=1\n",
        "  '''\n",
        "  case II  TUQin=453 e TQout=453, TUFin=293 TUFout=313\n",
        "  '''\n",
        "  TUQin=453 # steam saturated 180 celsius\n",
        "  TUQout=453\n",
        "  TUFin=293 \n",
        "  TUFout=313\n",
        "  \n",
        "  Areas=[]\n",
        "  cargaUQtodas=[]\n",
        "  cargaUFtodas=[]\n",
        "\n",
        "  for ki in range(NPAR):\n",
        "    areaTrocador=[]\n",
        "    cargaUQ=0\n",
        "    cargaUF=0\n",
        "    for j in range(cols):\n",
        "      delta=tempAlvo[j]-tempFinal[j]\n",
        "      if(delta>0):#usa UQ\n",
        "        cargaUQ=cargaUQ+mCp[j]*delta\n",
        "        deltaT1=(TUQin-tempAlvo[j])\n",
        "        deltaT2=(TUQout-tempFinal[j])\n",
        "        A=(deltaT1-deltaT2)\n",
        "        \n",
        "        try:\n",
        "          if(A==0):\n",
        "            deltaTMediaLog=deltaT1\n",
        "          else:\n",
        "            B=np.log((deltaT1/deltaT2))\n",
        "            deltaTMediaLog=A/B\n",
        "        except:\n",
        "          deltaTMediaLog=1e99\n",
        "\n",
        "        if(deltaTMediaLog==1e99):\n",
        "          areaTrocador.append(1e99)\n",
        "        else:\n",
        "          areaTrocador.append((abs(mCp[j]*(delta)/(U*deltaTMediaLog))))\n",
        "\n",
        "      elif(delta==0):#nao usa UF e UQ\n",
        "        deltaTMediaLog=0\n",
        "        areaTrocador.append(0) \n",
        "\n",
        "      else:#usa UF\n",
        "        deltaT1=(Tout[ki,j]-TUFout)\n",
        "        deltaT2=(tempAlvo[j]-TUFin)     \n",
        "        cargaUF=cargaUF+mCp[j]*(-delta)\n",
        "\n",
        "        #UF -> água resfriada -> entra a 303K e sai a 353K\n",
        "        try:\n",
        "          A=deltaT1-deltaT2\n",
        "          B=np.log(deltaT1/deltaT2)\n",
        "          deltaTMediaLog=A/B\n",
        "        except:\n",
        "          # deltaTMediaLog=1e99\n",
        "          if(A==B):\n",
        "            deltaTMediaLog=A\n",
        "          else:\n",
        "            deltaTMediaLog=1e99\n",
        "        \n",
        "        if(deltaTMediaLog==1e99):\n",
        "          areaTrocador.append(1e99)\n",
        "        else:\n",
        "          areaTrocador.append((abs(mCp[j]*(-delta)/(U*deltaTMediaLog))))\n",
        "\n",
        "    cargaUQtodas.append(cargaUQ)\n",
        "    cargaUFtodas.append(cargaUF)\n",
        "\n",
        "    Areas.append(areaTrocador)\n",
        "\n",
        "  return Areas, cargaUQtodas,cargaUFtodas\n",
        "\n",
        "  # Areas, cargaUQtodas,cargaUFtodas=Utility(mCp,Rec_Temp,tempAlvo)"
      ],
      "execution_count": 0,
      "outputs": []
    },
    {
      "cell_type": "code",
      "metadata": {
        "id": "gv1ZudaGvEYt",
        "colab_type": "code",
        "colab": {}
      },
      "source": [
        "\n",
        "def CustoProcesso(Areas,Utilidades,cargaUFtodas,cargaUQtodas):\n",
        "  global coefCustoUQ,coefCustoUF\n",
        "  \n",
        "  NPAR=1\n",
        "  costTrocadores=0\n",
        "  Soma=0\n",
        "  cost=np.zeros((NPAR))\n",
        "  for i in range(NPAR):\n",
        "    cargaUQ=cargaUQtodas[i]\n",
        "    cargaUF=cargaUFtodas[i]\n",
        "    areaUtilidades=np.array(Utilidades).ravel()\n",
        "    Areas=np.array(Areas)\n",
        "    \n",
        "    col=len(Areas)\n",
        "\n",
        "    for j in range(col):\n",
        "      Soma=Soma+9094+221*Areas[j]**0.81\n",
        "\n",
        "    cols=len(areaUtilidades)\n",
        "    for j in range(cols):\n",
        "      Soma=Soma+9094+221*areaUtilidades[j]**0.81\n",
        "\n",
        "    costTrocadores=Soma  \n",
        "    costUQ=coefCustoUQ*cargaUQ\n",
        "    costUF=coefCustoUF*cargaUF\n",
        "    \n",
        "    if(costTrocadores>=1e99):\n",
        "      cost[i]=1e99\n",
        "    else:\n",
        "      cost[i]=abs(costUQ)+abs(costUF)+costTrocadores\n",
        "\n",
        "\n",
        "  return cost"
      ],
      "execution_count": 0,
      "outputs": []
    },
    {
      "cell_type": "code",
      "metadata": {
        "id": "lmPfZ7arakM1",
        "colab_type": "code",
        "colab": {}
      },
      "source": [
        "#FUN calcula o TAC para um determinado arranjo\n",
        "#  cada calculo é feito em uma funcao a parte Fun usa todas funcoes \n",
        "\n",
        "def FUN(x):\n",
        "\n",
        "  global mCp,tempAtual,tempAlvo,tempInicial,U,coefCustoUQ,coefCustoUF\n",
        "  # next is temporary test variables\n",
        "  # global bounds\n",
        "  NPAR=1\n",
        "  \n",
        "  funr=np.zeros((NPAR))\n",
        "  cols=len(mCp)\n",
        "  Ind_I,Ind_J,deltaT, Split, WhenSplit, Alpha=SharkBuildMatriz(x)\n",
        "  x = x.reshape(-1, 18)\n",
        "  Tout,Erro,Rec_Temp,AreaCada= Temperatura(x)\n",
        "\n",
        "  areaTrocadores=np.array(AreaCada).ravel()\n",
        "\n",
        "  areaUtilidade, cargaUQ,cargaUF=Utility(mCp,Rec_Temp,tempAlvo)\n",
        "  cost=CustoProcesso(areaTrocadores,areaUtilidade,cargaUF,cargaUQ)\n",
        "  funr=cost\n",
        "\n",
        "  for k in range(NPAR):\n",
        "    if(Erro[k]>0):\n",
        "      funr[k]=1e99\n",
        "  funr = np.where(np.isnan(cost), 1e99, cost)\n",
        "\n",
        "  return funr "
      ],
      "execution_count": 0,
      "outputs": []
    },
    {
      "cell_type": "code",
      "metadata": {
        "id": "K4uCBdRVKAOf",
        "colab_type": "code",
        "outputId": "5b2dab0f-ace3-4132-a4a4-191b56ac8fa2",
        "colab": {
          "base_uri": "https://localhost:8080/",
          "height": 194
        }
      },
      "source": [
        "\n",
        "Ttest=np.zeros((1,Trocas))\n",
        "\n",
        "Ind_I,Ind_J,deltaT, Split, WhenSplit, Alpha=SharkBuildMatriz(x)\n",
        "Tout,erro,Rec_Temp,AreasTroca=Temperatura(x)\n",
        "\n",
        "print(Ind_I)\n",
        "print(Ind_J)\n",
        "print(deltaT)\n",
        "print('Split=',Split)\n",
        "print(Alpha)\n",
        "print(WhenSplit)\n",
        "print(\"#####------######\")\n",
        "print(Ttest)\n",
        "print(tempInicial)\n",
        "print(\"AreasTroca=\",AreasTroca)\n",
        "\n"
      ],
      "execution_count": 12,
      "outputs": [
        {
          "output_type": "stream",
          "text": [
            "[[2 3 2 1 1]]\n",
            "[[2 1 1 1 1]]\n",
            "[[-26.65462777 -15.52310795  -4.71305836 -19.18609834 -29.68683073]]\n",
            "Split= 3\n",
            "0.5180107356619332\n",
            "3\n",
            "#####------######\n",
            "[[423. 443. 323. 353. 353.]]\n",
            "[423.0, 443.0, 323.0, 353.0]\n",
            "AreasTroca= [750.3907672757591, 360.4016225166237, 467.01609128688403, 0, 0]\n"
          ],
          "name": "stdout"
        }
      ]
    },
    {
      "cell_type": "code",
      "metadata": {
        "id": "staDxSeFWyzK",
        "colab_type": "code",
        "outputId": "8ae674f1-c144-4594-86e4-4bf2d4785e2e",
        "colab": {
          "base_uri": "https://localhost:8080/",
          "height": 265
        }
      },
      "source": [
        "\n",
        "print('=====================')\n",
        "Tout,erro,Rec_Temp,AreasTroca =Temperatura(x)\n",
        "df=pd.DataFrame(Rec_Temp)\n",
        "print('*****',Tout)\n",
        "#print(erro)\n",
        "print(df)\n",
        "print(\"AreasTroca=\",AreasTroca)\n"
      ],
      "execution_count": 13,
      "outputs": [
        {
          "output_type": "stream",
          "text": [
            "=====================\n",
            "***** [[423.         396.10920592 323.         353.         369.59430771]]\n",
            "       0           1      2      3           4\n",
            "0  423.0  443.000000  323.0  353.0  353.000000\n",
            "1  423.0  443.000000  323.0  353.0  353.000000\n",
            "2  423.0  416.345372  323.0  353.0  363.661851\n",
            "3  423.0  400.822264  323.0  353.0  366.766473\n",
            "4  423.0  396.109206  323.0  353.0  369.594308\n",
            "5  423.0  396.109206  323.0  353.0  369.594308\n",
            "6  423.0  396.109206  323.0  353.0  369.594308\n",
            "7  423.0  396.109206  323.0  353.0  369.594308\n",
            "8  423.0  396.109206  323.0  353.0  369.594308\n",
            "9    0.0    0.000000    0.0    0.0    0.000000\n",
            "AreasTroca= [750.3907672757591, 360.4016225166237, 467.01609128688403, 0, 0]\n"
          ],
          "name": "stdout"
        }
      ]
    },
    {
      "cell_type": "code",
      "metadata": {
        "id": "ouDIo9TxD5Tm",
        "colab_type": "code",
        "outputId": "eb77560f-58c9-4898-b13c-8f2fa72d0abf",
        "colab": {
          "base_uri": "https://localhost:8080/",
          "height": 35
        }
      },
      "source": [
        "print(deltaT)"
      ],
      "execution_count": 14,
      "outputs": [
        {
          "output_type": "stream",
          "text": [
            "[[-26.65462777 -15.52310795  -4.71305836 -19.18609834 -29.68683073]]\n"
          ],
          "name": "stdout"
        }
      ]
    },
    {
      "cell_type": "code",
      "metadata": {
        "id": "A-E5HgBaPVC-",
        "colab_type": "code",
        "outputId": "da2888a2-22fe-486e-bd98-eb4946b23ac5",
        "colab": {
          "base_uri": "https://localhost:8080/",
          "height": 125
        }
      },
      "source": [
        "Areas, cargaUQtodas,cargaUFtodas=Utility(mCp,Rec_Temp,tempAlvo)\n",
        "print('Area utilidades=',Areas)\n",
        "print('cargaUQtodas=',cargaUQtodas)\n",
        "print('cargaUFtodas=',cargaUFtodas)\n",
        "print('tempFinal=',tempFinal)\n",
        "print('tempAlvo=',tempAlvo)"
      ],
      "execution_count": 15,
      "outputs": [
        {
          "output_type": "stream",
          "text": [
            "Area utilidades= [[2496.715350054903, 1174.2497028737296, 6064.6426897828, 9336.984417168374]]\n",
            "cargaUQtodas= [405300.0]\n",
            "cargaUFtodas= [0]\n",
            "tempFinal= [0. 0. 0. 0.]\n",
            "tempAlvo= [323.0, 313.0, 393.0, 383.0]\n"
          ],
          "name": "stdout"
        }
      ]
    },
    {
      "cell_type": "code",
      "metadata": {
        "id": "S80QizOyk77C",
        "colab_type": "code",
        "outputId": "d05d8ff5-2404-406e-e8fc-c3fa3d33c430",
        "colab": {
          "base_uri": "https://localhost:8080/",
          "height": 35
        }
      },
      "source": [
        "print(WhenSplit)"
      ],
      "execution_count": 16,
      "outputs": [
        {
          "output_type": "stream",
          "text": [
            "3\n"
          ],
          "name": "stdout"
        }
      ]
    },
    {
      "cell_type": "code",
      "metadata": {
        "id": "z4RyeYueqKN1",
        "colab_type": "code",
        "outputId": "bb2fb24e-411d-46ee-a555-c03c5f6fb7d9",
        "colab": {
          "base_uri": "https://localhost:8080/",
          "height": 297
        }
      },
      "source": [
        "#df = df[:-1]\n",
        "Imagem=len(df.iloc[:,0]) # Imagens+5 to get better graph postions\n",
        "Change=range(Imagem)\n",
        "for k in range(Trocas):\n",
        "  plt.plot(Change,df.iloc[:,k])\n",
        "\n",
        "plt.xlabel('Stages')\n",
        "plt.ylabel('Temperature (K)')"
      ],
      "execution_count": 17,
      "outputs": [
        {
          "output_type": "execute_result",
          "data": {
            "text/plain": [
              "Text(0, 0.5, 'Temperature (K)')"
            ]
          },
          "metadata": {
            "tags": []
          },
          "execution_count": 17
        },
        {
          "output_type": "display_data",
          "data": {
            "image/png": "[encoded data removed]",
            "text/plain": [
              "<Figure size 432x288 with 1 Axes>"
            ]
          },
          "metadata": {
            "tags": [],
            "needs_background": "light"
          }
        }
      ]
    },
    {
      "cell_type": "code",
      "metadata": {
        "id": "Rq6zaln-6cGn",
        "colab_type": "code",
        "outputId": "a929532b-4273-45c6-900a-0d59371e37a4",
        "colab": {
          "base_uri": "https://localhost:8080/",
          "height": 211
        }
      },
      "source": [
        "print(df)"
      ],
      "execution_count": 18,
      "outputs": [
        {
          "output_type": "stream",
          "text": [
            "       0           1      2      3           4\n",
            "0  423.0  443.000000  323.0  353.0  353.000000\n",
            "1  423.0  443.000000  323.0  353.0  353.000000\n",
            "2  423.0  416.345372  323.0  353.0  363.661851\n",
            "3  423.0  400.822264  323.0  353.0  366.766473\n",
            "4  423.0  396.109206  323.0  353.0  369.594308\n",
            "5  423.0  396.109206  323.0  353.0  369.594308\n",
            "6  423.0  396.109206  323.0  353.0  369.594308\n",
            "7  423.0  396.109206  323.0  353.0  369.594308\n",
            "8  423.0  396.109206  323.0  353.0  369.594308\n",
            "9    0.0    0.000000    0.0    0.0    0.000000\n"
          ],
          "name": "stdout"
        }
      ]
    },
    {
      "cell_type": "code",
      "metadata": {
        "id": "r1Uf0lNsfPAf",
        "colab_type": "code",
        "colab": {}
      },
      "source": [
        "#print(Rec_Tcold)\n",
        "#print(Rec_Thot)"
      ],
      "execution_count": 0,
      "outputs": []
    },
    {
      "cell_type": "code",
      "metadata": {
        "id": "stkxAEVg9kcg",
        "colab_type": "code",
        "outputId": "8b918544-8236-47d2-a4c8-7f65ccba311c",
        "colab": {
          "base_uri": "https://localhost:8080/",
          "height": 70
        }
      },
      "source": [
        "print(Split)\n",
        "print(WhenSplit)\n",
        "print(tempInicial)\n"
      ],
      "execution_count": 20,
      "outputs": [
        {
          "output_type": "stream",
          "text": [
            "3\n",
            "3\n",
            "[423.0, 443.0, 323.0, 353.0]\n"
          ],
          "name": "stdout"
        }
      ]
    },
    {
      "cell_type": "code",
      "metadata": {
        "id": "98ebmeBd6e5L",
        "colab_type": "code",
        "colab": {
          "base_uri": "https://localhost:8080/",
          "height": 55
        },
        "outputId": "6ce809f2-4822-4270-fcee-801dd62af855"
      },
      "source": [
        "'''\n",
        "fobj=FUN\n",
        "\n",
        "x=np.zeros((NPAR,cols))\n",
        "for i in range(NPAR):\n",
        "  for j in range(cols):\n",
        "    r=np.random.random()\n",
        "    x[i,j]=r*(MAX[j]-MIN[j])+MIN[j]\n",
        "\n",
        "x,BEST,FOBEST,XY,BEST_XY=de_bounds_matriz.de(bounds, mut, crossp, \n",
        "                                             NPAR, its,fobj,x)\n",
        "'''"
      ],
      "execution_count": 21,
      "outputs": [
        {
          "output_type": "execute_result",
          "data": {
            "text/plain": [
              "'\\nfobj=FUN\\n\\nx=np.zeros((NPAR,cols))\\nfor i in range(NPAR):\\n  for j in range(cols):\\n    r=np.random.random()\\n    x[i,j]=r*(MAX[j]-MIN[j])+MIN[j]\\n\\nx,BEST,FOBEST,XY,BEST_XY=de_bounds_matriz.de(bounds, mut, crossp, \\n                                             NPAR, its,fobj,x)\\n'"
            ]
          },
          "metadata": {
            "tags": []
          },
          "execution_count": 21
        }
      ]
    },
    {
      "cell_type": "code",
      "metadata": {
        "id": "hYIQciQQVGNp",
        "colab_type": "code",
        "colab": {}
      },
      "source": [
        "def fun2fun(xw):\n",
        "\n",
        "  global bounds,mut,crossp,NPAR,its,cols,MAX,MIN\n",
        "\n",
        "\n",
        "  fobj=FUN\n",
        "\n",
        "  x=np.zeros((NPAR,cols))\n",
        "  for i in range(NPAR):\n",
        "    for j in range(cols):\n",
        "      r=np.random.random()\n",
        "      x[i,j]=r*(MAX[j]-MIN[j])+MIN[j]\n",
        "  \n",
        "  Num=2*Trocas\n",
        "  #print(xw)\n",
        "\n",
        "  for i in range(NPAR):\n",
        "    for j in range(Num):\n",
        "      #print(\"i=%d j=%d\"%(i,j))\n",
        "      x[i,j]=np.copy(xw[j])\n",
        "\n",
        "  print(x)\n",
        "  print(\"======\")\n",
        "\n",
        "  x,BEST,FOBEST,XY,BEST_XY=de_bounds_matriz.de(bounds, mut, crossp, \n",
        "                                              NPAR, its,fobj,x)\n",
        "  \n",
        "  for i in range(NPAR):\n",
        "    for j in range(Num):\n",
        "      x[i,j]=np.copy(xw[j])\n",
        "\n",
        "  return x,BEST,FOBEST,XY,BEST_XY"
      ],
      "execution_count": 0,
      "outputs": []
    },
    {
      "cell_type": "code",
      "metadata": {
        "id": "QGgCjPHSV7Gi",
        "colab_type": "code",
        "colab": {
          "base_uri": "https://localhost:8080/",
          "height": 1000
        },
        "outputId": "e18b542e-4768-4d3b-9fc2-85b028739790"
      },
      "source": [
        "fobj=fun2fun\n",
        "\n",
        "NPAR=5 # new origin to meth\n",
        "itsq=5 # new origin to meth\n",
        "\n",
        "NPQR=5 # new origin to meth\n",
        "its=5 # new origin to meth\n",
        "xw=np.zeros((NPQR,cols))\n",
        "\n",
        "for i in range(NPQR):\n",
        "  for j in range(cols):\n",
        "    r=np.random.random()\n",
        "    xw[i,j]=r*(MAX[j]-MIN[j])+MIN[j]\n",
        "\n",
        "x,BEST,FOBEST,XY,BEST_XY=de_bounds_matriz.de(bounds, mut, crossp, \n",
        "                                              NPQR, itsq,fobj,xw)"
      ],
      "execution_count": 23,
      "outputs": [
        {
          "output_type": "stream",
          "text": [
            "[[ 1.34817017e+00  6.48581583e-01  2.28830988e+00  2.78473463e+00\n",
            "   2.32102001e+00  2.20523949e+00  1.00814063e+00  2.70504749e-01\n",
            "   9.48160807e-01  1.88316208e+00 -6.00864530e+01 -7.27162789e+01\n",
            "  -8.09498675e+01 -1.30359778e+01 -7.25989804e+01  3.35178644e-01\n",
            "   6.65173361e-01  2.23351039e+00]\n",
            " [ 1.34817017e+00  6.48581583e-01  2.28830988e+00  2.78473463e+00\n",
            "   2.32102001e+00  2.20523949e+00  1.00814063e+00  2.70504749e-01\n",
            "   9.48160807e-01  1.88316208e+00 -2.27467627e+01 -8.34771879e+01\n",
            "  -6.88931450e+01 -4.26452692e+01 -6.88509752e+01  8.22125181e-01\n",
            "   1.89521371e-01  1.69355381e+00]\n",
            " [ 1.34817017e+00  6.48581583e-01  2.28830988e+00  2.78473463e+00\n",
            "   2.32102001e+00  2.20523949e+00  1.00814063e+00  2.70504749e-01\n",
            "   9.48160807e-01  1.88316208e+00 -4.02617041e+01 -9.15906405e+01\n",
            "  -5.20526940e+01 -5.41295524e+01 -4.45789078e+01  4.77839578e-01\n",
            "   3.60733222e-02  1.86345619e+00]\n",
            " [ 1.34817017e+00  6.48581583e-01  2.28830988e+00  2.78473463e+00\n",
            "   2.32102001e+00  2.20523949e+00  1.00814063e+00  2.70504749e-01\n",
            "   9.48160807e-01  1.88316208e+00 -1.11819287e+01 -4.35815709e+01\n",
            "  -8.54912033e+01 -2.40969415e+01 -8.07666809e+01  5.39609735e-01\n",
            "   2.14854858e+00  2.05733585e+00]\n",
            " [ 1.34817017e+00  6.48581583e-01  2.28830988e+00  2.78473463e+00\n",
            "   2.32102001e+00  2.20523949e+00  1.00814063e+00  2.70504749e-01\n",
            "   9.48160807e-01  1.88316208e+00 -3.00900651e+01 -1.01185984e+01\n",
            "  -7.62875066e+01 -6.75608406e+01 -3.59239181e+01  7.81875075e-01\n",
            "   2.67753630e-02  6.53653750e-02]]\n",
            "======\n",
            "[[  0.98552256   1.73641343   2.70638817   2.6599901    2.75782264\n",
            "    0.92344183   2.99861253   1.93341088   2.97042703   0.37152926\n",
            "  -10.41681883 -39.0141321  -71.9446834  -22.641482   -34.8923267\n",
            "    0.76726078   1.0945494    2.4303229 ]\n",
            " [  0.98552256   1.73641343   2.70638817   2.6599901    2.75782264\n",
            "    0.92344183   2.99861253   1.93341088   2.97042703   0.37152926\n",
            "  -72.97554189 -72.45996497 -32.23600457 -62.78629501 -22.95881239\n",
            "    0.64061391   2.33707338   0.1835839 ]\n",
            " [  0.98552256   1.73641343   2.70638817   2.6599901    2.75782264\n",
            "    0.92344183   2.99861253   1.93341088   2.97042703   0.37152926\n",
            "  -79.40864497 -64.46658291 -33.80804766 -77.78718316 -47.28801107\n",
            "    0.4830775    1.38549975   1.58360559]\n",
            " [  0.98552256   1.73641343   2.70638817   2.6599901    2.75782264\n",
            "    0.92344183   2.99861253   1.93341088   2.97042703   0.37152926\n",
            "  -62.09733832 -23.14435207 -95.44777396 -47.89230868 -65.33767392\n",
            "    0.83633623   2.05750813   3.4881036 ]\n",
            " [  0.98552256   1.73641343   2.70638817   2.6599901    2.75782264\n",
            "    0.92344183   2.99861253   1.93341088   2.97042703   0.37152926\n",
            "  -43.40254692 -62.85188882 -57.09095943 -78.12011089 -22.99723025\n",
            "    0.39334354   0.51890026   3.38831602]]\n",
            "======\n",
            "[[ 2.54809815e+00  1.07019658e+00  3.76704907e-01  2.47593118e+00\n",
            "   9.75202847e-01  2.17707713e+00  1.46892016e+00  2.43537554e+00\n",
            "   1.18397415e+00  1.76193256e+00 -6.33148015e+01 -6.81576551e+01\n",
            "  -7.47954583e+00 -2.63405722e+01 -2.40946933e+01  7.09322941e-01\n",
            "   1.05991792e+00  1.28992627e+00]\n",
            " [ 2.54809815e+00  1.07019658e+00  3.76704907e-01  2.47593118e+00\n",
            "   9.75202847e-01  2.17707713e+00  1.46892016e+00  2.43537554e+00\n",
            "   1.18397415e+00  1.76193256e+00 -9.89051964e+01 -5.21630274e+01\n",
            "  -8.52850204e+01 -7.24296561e+01 -7.31683551e+01  3.26107153e-01\n",
            "   1.16778521e+00  1.57691230e+00]\n",
            " [ 2.54809815e+00  1.07019658e+00  3.76704907e-01  2.47593118e+00\n",
            "   9.75202847e-01  2.17707713e+00  1.46892016e+00  2.43537554e+00\n",
            "   1.18397415e+00  1.76193256e+00 -2.94230561e+01 -7.86616139e+01\n",
            "  -2.06591963e+01 -7.27769036e-01 -3.52335941e+01  2.38949534e-01\n",
            "   2.74876944e-01  3.05710424e-01]\n",
            " [ 2.54809815e+00  1.07019658e+00  3.76704907e-01  2.47593118e+00\n",
            "   9.75202847e-01  2.17707713e+00  1.46892016e+00  2.43537554e+00\n",
            "   1.18397415e+00  1.76193256e+00 -1.84807763e+01 -2.76354008e+01\n",
            "  -8.60320878e+01 -5.44913039e+01 -4.64866290e+01  5.99431427e-01\n",
            "   8.89460130e-01  5.19342404e-01]\n",
            " [ 2.54809815e+00  1.07019658e+00  3.76704907e-01  2.47593118e+00\n",
            "   9.75202847e-01  2.17707713e+00  1.46892016e+00  2.43537554e+00\n",
            "   1.18397415e+00  1.76193256e+00 -5.63843269e+01 -8.80174171e+01\n",
            "  -9.20472952e+01 -1.34812033e+00 -2.85665637e+01  2.67312918e-01\n",
            "   6.84516157e-03  1.70549838e+00]]\n",
            "======\n",
            "[[  1.53161098   2.38479106   0.14688505   2.26058178   0.28385156\n",
            "    2.01693824   0.75399306   2.77052882   2.01750893   0.78885508\n",
            "  -42.84674235 -72.54216199 -88.42010399 -80.03782356 -85.36958951\n",
            "    0.23622678   1.00968858   0.39050733]\n",
            " [  1.53161098   2.38479106   0.14688505   2.26058178   0.28385156\n",
            "    2.01693824   0.75399306   2.77052882   2.01750893   0.78885508\n",
            "  -87.07926716 -29.70733148 -19.55549319 -82.40153011 -83.32690096\n",
            "    0.56364276   1.51207377   2.20938127]\n",
            " [  1.53161098   2.38479106   0.14688505   2.26058178   0.28385156\n",
            "    2.01693824   0.75399306   2.77052882   2.01750893   0.78885508\n",
            "  -62.35934283 -70.18064214  -0.61869888  -2.66117273 -56.34305225\n",
            "    0.39967686   2.74584021   2.81449559]\n",
            " [  1.53161098   2.38479106   0.14688505   2.26058178   0.28385156\n",
            "    2.01693824   0.75399306   2.77052882   2.01750893   0.78885508\n",
            "  -67.86101865 -53.43119493 -15.3850013  -23.51307715 -94.92704488\n",
            "    0.27829243   2.61750651   3.7165626 ]\n",
            " [  1.53161098   2.38479106   0.14688505   2.26058178   0.28385156\n",
            "    2.01693824   0.75399306   2.77052882   2.01750893   0.78885508\n",
            "  -36.14845282 -33.9258978  -22.62266386  -3.07435154 -61.86388247\n",
            "    0.42011486   1.77259275   2.35986401]]\n",
            "======\n",
            "[[  1.97572257   0.67886531   0.3132275    1.18898291   1.80841263\n",
            "    1.92747082   0.83272918   0.33290814   1.53273415   2.1592002\n",
            "  -75.4948838  -42.72639538 -37.44552404  -9.78838272 -24.79704194\n",
            "    0.1805891    1.62433338   0.78607528]\n",
            " [  1.97572257   0.67886531   0.3132275    1.18898291   1.80841263\n",
            "    1.92747082   0.83272918   0.33290814   1.53273415   2.1592002\n",
            "  -72.14390365 -67.27758641 -98.0157723  -46.45384953 -67.95682163\n",
            "    0.37538055   1.71416495   3.53191436]\n",
            " [  1.97572257   0.67886531   0.3132275    1.18898291   1.80841263\n",
            "    1.92747082   0.83272918   0.33290814   1.53273415   2.1592002\n",
            "  -91.31766166 -66.05464292 -77.57129747 -11.39999073 -91.99874844\n",
            "    0.38322771   2.76120617   3.28004419]\n",
            " [  1.97572257   0.67886531   0.3132275    1.18898291   1.80841263\n",
            "    1.92747082   0.83272918   0.33290814   1.53273415   2.1592002\n",
            "  -78.12615217 -22.6356914  -13.24322683 -45.19693812 -66.96849251\n",
            "    0.40528818   1.1042591    1.49680307]\n",
            " [  1.97572257   0.67886531   0.3132275    1.18898291   1.80841263\n",
            "    1.92747082   0.83272918   0.33290814   1.53273415   2.1592002\n",
            "   -5.63874285 -53.19421139 -91.23459106 -19.1811755  -40.90881117\n",
            "    0.74311825   0.32018284   3.62686313]]\n",
            "======\n"
          ],
          "name": "stdout"
        },
        {
          "output_type": "error",
          "ename": "ValueError",
          "evalue": "ignored",
          "traceback": [
            "\u001b[0;31m---------------------------------------------------------------------------\u001b[0m",
            "\u001b[0;31mValueError\u001b[0m                                Traceback (most recent call last)",
            "\u001b[0;32m<ipython-input-23-67b69f2255ba>\u001b[0m in \u001b[0;36m<module>\u001b[0;34m()\u001b[0m\n\u001b[1;32m     14\u001b[0m \u001b[0;34m\u001b[0m\u001b[0m\n\u001b[1;32m     15\u001b[0m x,BEST,FOBEST,XY,BEST_XY=de_bounds_matriz.de(bounds, mut, crossp, \n\u001b[0;32m---> 16\u001b[0;31m                                               NPQR, itsq,fobj,xw)\n\u001b[0m",
            "\u001b[0;32m/content/raianars_RTC_optimization/de_bounds_matriz.py\u001b[0m in \u001b[0;36mde\u001b[0;34m(bounds, mut, crossp, popsize, its, fobj, X)\u001b[0m\n\u001b[1;32m     13\u001b[0m \u001b[0;34m\u001b[0m\u001b[0m\n\u001b[1;32m     14\u001b[0m   \u001b[0mfitness\u001b[0m \u001b[0;34m=\u001b[0m \u001b[0mnp\u001b[0m\u001b[0;34m.\u001b[0m\u001b[0masarray\u001b[0m\u001b[0;34m(\u001b[0m\u001b[0;34m[\u001b[0m\u001b[0mfobj\u001b[0m\u001b[0;34m(\u001b[0m\u001b[0mind\u001b[0m\u001b[0;34m)\u001b[0m \u001b[0;32mfor\u001b[0m \u001b[0mind\u001b[0m \u001b[0;32min\u001b[0m \u001b[0mX\u001b[0m\u001b[0;34m]\u001b[0m\u001b[0;34m)\u001b[0m\u001b[0;34m\u001b[0m\u001b[0;34m\u001b[0m\u001b[0m\n\u001b[0;32m---> 15\u001b[0;31m   \u001b[0mbest_idx\u001b[0m \u001b[0;34m=\u001b[0m \u001b[0mnp\u001b[0m\u001b[0;34m.\u001b[0m\u001b[0margmin\u001b[0m\u001b[0;34m(\u001b[0m\u001b[0mfitness\u001b[0m\u001b[0;34m)\u001b[0m\u001b[0;34m\u001b[0m\u001b[0;34m\u001b[0m\u001b[0m\n\u001b[0m\u001b[1;32m     16\u001b[0m   \u001b[0mbest\u001b[0m \u001b[0;34m=\u001b[0m \u001b[0mX\u001b[0m\u001b[0;34m[\u001b[0m\u001b[0mbest_idx\u001b[0m\u001b[0;34m]\u001b[0m\u001b[0;34m\u001b[0m\u001b[0;34m\u001b[0m\u001b[0m\n\u001b[1;32m     17\u001b[0m \u001b[0;34m\u001b[0m\u001b[0m\n",
            "\u001b[0;32m<__array_function__ internals>\u001b[0m in \u001b[0;36margmin\u001b[0;34m(*args, **kwargs)\u001b[0m\n",
            "\u001b[0;32m/usr/local/lib/python3.6/dist-packages/numpy/core/fromnumeric.py\u001b[0m in \u001b[0;36margmin\u001b[0;34m(a, axis, out)\u001b[0m\n\u001b[1;32m   1265\u001b[0m \u001b[0;34m\u001b[0m\u001b[0m\n\u001b[1;32m   1266\u001b[0m     \"\"\"\n\u001b[0;32m-> 1267\u001b[0;31m     \u001b[0;32mreturn\u001b[0m \u001b[0m_wrapfunc\u001b[0m\u001b[0;34m(\u001b[0m\u001b[0ma\u001b[0m\u001b[0;34m,\u001b[0m \u001b[0;34m'argmin'\u001b[0m\u001b[0;34m,\u001b[0m \u001b[0maxis\u001b[0m\u001b[0;34m=\u001b[0m\u001b[0maxis\u001b[0m\u001b[0;34m,\u001b[0m \u001b[0mout\u001b[0m\u001b[0;34m=\u001b[0m\u001b[0mout\u001b[0m\u001b[0;34m)\u001b[0m\u001b[0;34m\u001b[0m\u001b[0;34m\u001b[0m\u001b[0m\n\u001b[0m\u001b[1;32m   1268\u001b[0m \u001b[0;34m\u001b[0m\u001b[0m\n\u001b[1;32m   1269\u001b[0m \u001b[0;34m\u001b[0m\u001b[0m\n",
            "\u001b[0;32m/usr/local/lib/python3.6/dist-packages/numpy/core/fromnumeric.py\u001b[0m in \u001b[0;36m_wrapfunc\u001b[0;34m(obj, method, *args, **kwds)\u001b[0m\n\u001b[1;32m     59\u001b[0m \u001b[0;34m\u001b[0m\u001b[0m\n\u001b[1;32m     60\u001b[0m     \u001b[0;32mtry\u001b[0m\u001b[0;34m:\u001b[0m\u001b[0;34m\u001b[0m\u001b[0;34m\u001b[0m\u001b[0m\n\u001b[0;32m---> 61\u001b[0;31m         \u001b[0;32mreturn\u001b[0m \u001b[0mbound\u001b[0m\u001b[0;34m(\u001b[0m\u001b[0;34m*\u001b[0m\u001b[0margs\u001b[0m\u001b[0;34m,\u001b[0m \u001b[0;34m**\u001b[0m\u001b[0mkwds\u001b[0m\u001b[0;34m)\u001b[0m\u001b[0;34m\u001b[0m\u001b[0;34m\u001b[0m\u001b[0m\n\u001b[0m\u001b[1;32m     62\u001b[0m     \u001b[0;32mexcept\u001b[0m \u001b[0mTypeError\u001b[0m\u001b[0;34m:\u001b[0m\u001b[0;34m\u001b[0m\u001b[0;34m\u001b[0m\u001b[0m\n\u001b[1;32m     63\u001b[0m         \u001b[0;31m# A TypeError occurs if the object does have such a method in its\u001b[0m\u001b[0;34m\u001b[0m\u001b[0;34m\u001b[0m\u001b[0;34m\u001b[0m\u001b[0m\n",
            "\u001b[0;31mValueError\u001b[0m: The truth value of an array with more than one element is ambiguous. Use a.any() or a.all()"
          ]
        }
      ]
    },
    {
      "cell_type": "code",
      "metadata": {
        "id": "_u4jkAgmZWAz",
        "colab_type": "code",
        "colab": {}
      },
      "source": [
        "print(x)\n",
        "print(NPAR)\n",
        "print(cols)\n",
        "print(Trocas)"
      ],
      "execution_count": 0,
      "outputs": []
    },
    {
      "cell_type": "code",
      "metadata": {
        "id": "H1vR1CCOfG2S",
        "colab_type": "code",
        "colab": {}
      },
      "source": [
        "print(BEST)"
      ],
      "execution_count": 0,
      "outputs": []
    },
    {
      "cell_type": "code",
      "metadata": {
        "id": "tSXs89ll9-LJ",
        "colab_type": "code",
        "colab": {}
      },
      "source": [
        "print(FOBEST)"
      ],
      "execution_count": 0,
      "outputs": []
    },
    {
      "cell_type": "code",
      "metadata": {
        "id": "6hyOxTBGfbg4",
        "colab_type": "code",
        "colab": {}
      },
      "source": [
        "xbest=BEST\n",
        "print('=====================')\n",
        "Tout,erro,Rec_Temp,AreasTroca =Temperatura(xbest)\n",
        "df=pd.DataFrame(Rec_Temp)\n",
        "print('*****',Tout)\n",
        "#print(erro)\n",
        "print(df)\n",
        "print(\"AreasTroca=\",AreasTroca)"
      ],
      "execution_count": 0,
      "outputs": []
    },
    {
      "cell_type": "code",
      "metadata": {
        "id": "ucmPFbcPf0fz",
        "colab_type": "code",
        "colab": {}
      },
      "source": [
        "Imagem=len(df.iloc[:,0]) # Imagens+5 to get better graph postions\n",
        "Change=range(Imagem)\n",
        "for k in range(Trocas):\n",
        "  plt.plot(Change,df.iloc[:,k])\n",
        "\n",
        "plt.xlabel('Stages')\n",
        "plt.ylabel('Temperature (K)')"
      ],
      "execution_count": 0,
      "outputs": []
    },
    {
      "cell_type": "code",
      "metadata": {
        "id": "82zAZ6wyKVnu",
        "colab_type": "code",
        "colab": {}
      },
      "source": [
        "print('=====================')\n",
        "x=BEST\n",
        "Tout,erro,Rec_Temp,AreasTroca =Temperatura(x)\n",
        "df=pd.DataFrame(Rec_Temp)\n",
        "print('*****',Tout)\n",
        "#print(erro)\n",
        "print(df)\n",
        "print(\"AreasTroca=\",AreasTroca)"
      ],
      "execution_count": 0,
      "outputs": []
    },
    {
      "cell_type": "code",
      "metadata": {
        "id": "4mdDh6nBK02F",
        "colab_type": "code",
        "colab": {}
      },
      "source": [
        "Areas, cargaUQtodas,cargaUFtodas=Utility(mCp,Rec_Temp,tempAlvo)\n",
        "print('Areas utilidades=',Areas)\n",
        "Tout,erro,Rec_Temp,AreaCada =Temperatura(BEST)\n",
        "print('Areas trocadores=',AreaCada)\n",
        "print('cargaUQtodas=',cargaUQtodas)\n",
        "print('cargaUFtodas=',cargaUFtodas)\n",
        "print('tempFinal=',tempFinal)\n",
        "print('tempAlvo=',tempAlvo)\n",
        "print('tempInicial=',tempInicial)"
      ],
      "execution_count": 0,
      "outputs": []
    },
    {
      "cell_type": "code",
      "metadata": {
        "id": "lmsE4caSHdM9",
        "colab_type": "code",
        "colab": {}
      },
      "source": [
        "Soma=0\n",
        "Areas=np.array(Areas)\n",
        "row, col=Areas.shape\n",
        "print(col)\n",
        "for j in range(col):\n",
        "  Soma=Soma+9094+221*Areas[0,j]**0.81\n",
        "print(Soma)\n",
        "\n",
        "Soma=0\n",
        "Areas=np.array(AreaCada)\n",
        "col=5\n",
        "for j in range(col):\n",
        "  Soma=Soma+9094+221*Areas[j]**0.81\n",
        "print(Soma)\n"
      ],
      "execution_count": 0,
      "outputs": []
    },
    {
      "cell_type": "code",
      "metadata": {
        "id": "I69ZEmwEReg4",
        "colab_type": "code",
        "colab": {}
      },
      "source": [
        "Ind_I,Ind_J,deltaT, Split, WhenSplit, Alpha=SharkBuildMatriz(BEST)\n",
        "print('Alpha=',Alpha)"
      ],
      "execution_count": 0,
      "outputs": []
    },
    {
      "cell_type": "code",
      "metadata": {
        "id": "FkXhJoSF6_Nw",
        "colab_type": "code",
        "colab": {}
      },
      "source": [
        "print(FOBEST)"
      ],
      "execution_count": 0,
      "outputs": []
    },
    {
      "cell_type": "code",
      "metadata": {
        "id": "gIFuvid_MpGL",
        "colab_type": "code",
        "colab": {}
      },
      "source": [
        "end_time=time.time()\n",
        "delta_time=(end_time-start_time)/60\n",
        "print(\"minutes=\",delta_time)"
      ],
      "execution_count": 0,
      "outputs": []
    }
  ]
}